{
 "cells": [
  {
   "cell_type": "code",
   "execution_count": 1,
   "id": "2657ebc7",
   "metadata": {},
   "outputs": [],
   "source": [
    "import numpy as np\n",
    "import pandas as pd\n",
    "import matplotlib.pyplot as plt \n",
    "import seaborn as sns\n",
    "import statsmodels.api as sm\n",
    "import os\n",
    "import warnings\n",
    "import scipy\n",
    "import pyarrow as pa \n",
    "import pyarrow.parquet as pq\n",
    "from numpy.linalg import inv\n",
    "warnings.filterwarnings('ignore')"
   ]
  },
  {
   "cell_type": "code",
   "execution_count": null,
   "id": "cb5cc168",
   "metadata": {},
   "outputs": [],
   "source": [
    "path='/Users/hmt/Documents/PHBS/courses/investment/project/data/wind底层库数据'"
   ]
  },
  {
   "cell_type": "markdown",
   "id": "e38e86a9",
   "metadata": {},
   "source": [
    "# 数据预处理"
   ]
  },
  {
   "cell_type": "code",
   "execution_count": 3,
   "id": "ccb0799b",
   "metadata": {},
   "outputs": [],
   "source": [
    "#数据读取\n",
    "all_ashare = pd.read_csv(f'{path}/all_ashares_年报填充_copy.csv',dtype={'交易状态':str, '交易状态码':str,'涨跌停状态':str, \n",
    "                                                          'ST状态':str, '申万行业代码':str, 'stkcd':str, '公司名称':str,\n",
    "                                                          '交易所':str, '上市板块代码':str, '上市时间':str, '退市时间':str,\n",
    "                                                          '上市板块':str, '是否沪股通':str})\n",
    "all_stock = all_ashare[['WINDCODE','date','复权preclose','复权open', \n",
    "                        '复权high', '复权low','复权close','preclose','open',\n",
    "                        'high','low','close','交易状态','总市值',\n",
    "                        '流通市值','PB','公告日期','总资产增长率','每股净资产',\n",
    "                        'roe','净资产收益率(扣除非经常损益)','申万行业代码','公司名称','交易所','上市板块']].copy()\n",
    "del all_ashare"
   ]
  },
  {
   "cell_type": "markdown",
   "id": "a683d8db",
   "metadata": {},
   "source": [
    "## 1.初步预处理"
   ]
  },
  {
   "cell_type": "code",
   "execution_count": 4,
   "id": "268387b0",
   "metadata": {},
   "outputs": [],
   "source": [
    "all_stock['date'] = pd.to_datetime(all_stock['date'])\n",
    "all_stock['公告日期'] = pd.to_datetime(all_stock['公告日期'])\n",
    "#股价行情时间裁剪，选取 19990101 到 20240101,为了前填数值\n",
    "cutoff_date_up = pd.to_datetime('20240101')\n",
    "cutoff_date_down = pd.to_datetime('19990101')\n",
    "# 使用布尔索引来选择date小于或等于20240101的行\n",
    "all_stock = all_stock[all_stock['date'] <= cutoff_date_up]\n",
    "all_stock = all_stock[all_stock['date'] >= cutoff_date_down]"
   ]
  },
  {
   "cell_type": "markdown",
   "id": "43115cab",
   "metadata": {},
   "source": [
    "#计算一下前一个交易日的PB,#可以选用的一种 PB计算方式\n",
    "#all_stock.sort_values(by=['WINDCODE', 'date'], inplace=True)\n",
    "#可以先用饿的一种 PB 调用方式\n",
    "#all_stock['PrePB'] = all_stock.groupby(['WINDCODE'])['PB'].shift(1)\n",
    "#all_stock['PB_other'] = all_stock['PrePB']\n"
   ]
  },
  {
   "cell_type": "code",
   "execution_count": 5,
   "id": "142d2d2e",
   "metadata": {},
   "outputs": [],
   "source": [
    "#计算PB值\n",
    "all_stock['PB_other'] = np.where(\n",
    "    (all_stock['date'] == all_stock['公告日期']), \n",
    "    all_stock['preclose'] / all_stock['每股净资产'], \n",
    "    np.nan\n",
    ")\n",
    "\n",
    "#把每日行情的PB_other都向前填充最近一个公告日报告的财务数据\n",
    "def ffill_series(group):\n",
    "    return group.fillna(method='ffill')\n",
    "columns_to_fill = ['PB_other']\n",
    "grouped = all_stock.groupby('WINDCODE')\n",
    "filled_data = grouped[columns_to_fill].apply(ffill_series).reset_index(level=0, drop=True)\n",
    "for column in columns_to_fill:\n",
    "    all_stock[column] = filled_data[column]"
   ]
  },
  {
   "cell_type": "code",
   "execution_count": 6,
   "id": "f6ea474f",
   "metadata": {},
   "outputs": [],
   "source": [
    "#清洗非交易数据\n",
    "condition  = ((all_stock['交易状态']=='交易') | (all_stock['交易状态']=='XR') | \n",
    "             (all_stock['交易状态']=='XD') | (all_stock['交易状态']=='DR') |\n",
    "            (all_stock['交易状态']=='N'))\n",
    "all_stocks_cleaned = all_stock[condition]\n",
    "all_stocks_cleaned['date'] = pd.to_datetime(all_stocks_cleaned['date'])"
   ]
  },
  {
   "cell_type": "code",
   "execution_count": 7,
   "id": "402aa956",
   "metadata": {},
   "outputs": [],
   "source": [
    "#剔除新上市股票前 30 个交易日的数据\n",
    "all_stocks_cleaned['次新股'] = all_stocks_cleaned[all_stocks_cleaned['交易状态']=='N']['交易状态']\n",
    "all_stocks_cleaned['次新股'] = all_stocks_cleaned.groupby('WINDCODE')['次新股'].transform(\n",
    "    lambda x: x.fillna(method='ffill', limit=30))\n",
    "all_stocks_cleaned = all_stocks_cleaned[all_stocks_cleaned['次新股'].isna()]"
   ]
  },
  {
   "cell_type": "markdown",
   "id": "acdd85f9",
   "metadata": {},
   "source": [
    "## 2.转化为月度股价行情序列"
   ]
  },
  {
   "cell_type": "code",
   "execution_count": 8,
   "id": "06879782",
   "metadata": {},
   "outputs": [],
   "source": [
    "#聚合函数按WINDCODE，月份\n",
    "all_stocks_cleaned['period'] = all_stocks_cleaned['date'].dt.to_period('M')\n",
    "all_stocks_cleaned.sort_values(by=['WINDCODE','date'],inplace=True)\n",
    "gb = all_stocks_cleaned.groupby(['WINDCODE', 'period'], as_index=False)"
   ]
  },
  {
   "cell_type": "code",
   "execution_count": 40,
   "id": "4f774cbc",
   "metadata": {},
   "outputs": [],
   "source": [
    "monthly_stocks = gb.agg({'复权preclose':'first', \n",
    "                         '复权open':'first', \n",
    "                         '复权high':'max', \n",
    "                         '复权low':'min',\n",
    "                         '复权close':'last',\n",
    "                         'preclose':'first',\n",
    "                         'open':'first', \n",
    "                         'high':'max', \n",
    "                         'low':'min', \n",
    "                         'close':'last',\n",
    "                         '交易状态':'count', \n",
    "                         '总市值':'first', \n",
    "                         '流通市值':'first', \n",
    "                         'PB':'first',\n",
    "                         'PB_other':'first',\n",
    "                         '公告日期':'first', \n",
    "                         '总资产增长率':'first', \n",
    "                         'roe':'first',\n",
    "                         '净资产收益率(扣除非经常损益)':'first',\n",
    "                         '申万行业代码':'first', \n",
    "                         '公司名称':'first', \n",
    "                         '交易所':'first', \n",
    "                         '上市板块':'first'\n",
    "})"
   ]
  },
  {
   "cell_type": "markdown",
   "id": "40ade976",
   "metadata": {},
   "source": [
    "#把每日行情的财务数据都向后填充最近一个公告日报告的财务数据\n",
    "def bfill_series(group):\n",
    "    return group.fillna(method='bfill')\n",
    "columns_to_fill = ['PB_other','公告日期','总资产增长率','roe','PB','净资产收益率(扣除非经常损益)']\n",
    "grouped = monthly_stocks.groupby('WINDCODE')\n",
    "filled_data = grouped[columns_to_fill].apply(bfill_series).reset_index(level=0, drop=True)\n",
    "for column in columns_to_fill:\n",
    "    monthly_stocks[column] = filled_data[column]"
   ]
  },
  {
   "cell_type": "markdown",
   "id": "fdec3afd",
   "metadata": {},
   "source": [
    "## 3.进一步数据清洗"
   ]
  },
  {
   "cell_type": "code",
   "execution_count": 41,
   "id": "4e45c33b",
   "metadata": {},
   "outputs": [],
   "source": [
    "gb2 = monthly_stocks.groupby(['period'])['交易状态'].max().reset_index()\n",
    "gb2.rename(columns={'交易状态': '最大交易天数'}, inplace=True)\n",
    "monthly_stocks = pd.merge(monthly_stocks,gb2, on='period',how='left')\n",
    "del gb2"
   ]
  },
  {
   "cell_type": "code",
   "execution_count": 42,
   "id": "46a22a02",
   "metadata": {},
   "outputs": [],
   "source": [
    "#提取月交易天数大于等于当月最大天数 2/3的数据\n",
    "PB_var = 'PB_other'\n",
    "#PB_var = 'PB'\n",
    "monthly_stocks_1 = monthly_stocks[monthly_stocks['交易状态']>=(monthly_stocks['最大交易天数']*2/3)]\n",
    "#剔除 PB 与 ROE 空值的数据\n",
    "monthly_stocks_2 = monthly_stocks_1[monthly_stocks_1[PB_var].notna()]\n",
    "monthly_stocks_2 = monthly_stocks_2[monthly_stocks_2['roe'].notna()]"
   ]
  },
  {
   "cell_type": "code",
   "execution_count": 43,
   "id": "c03ad306",
   "metadata": {},
   "outputs": [],
   "source": [
    "#剔除PB小于0 的数据并计算 BP\n",
    "monthly_stocks_2 = monthly_stocks_2[monthly_stocks_2[PB_var]>=0]\n",
    "monthly_stocks_2['BP'] = 1/monthly_stocks_2[PB_var]\n",
    "monthly_stocks_2['pct_change'] = monthly_stocks_2 ['复权close']/monthly_stocks_2['复权preclose']-1\n",
    "monthly_stocks_2.reset_index(inplace=True,drop=True)"
   ]
  },
  {
   "cell_type": "code",
   "execution_count": 44,
   "id": "1673f59a",
   "metadata": {},
   "outputs": [],
   "source": [
    "#也许有一些被剔除了\n",
    "my_period_array = monthly_stocks_2['period'].sort_values().unique()\n",
    "period_array = pd.period_range(start='2000-01', end='2023-12', freq='M')\n",
    "# 找出缺失的period\n",
    "missing_periods = [~period_array.isin(my_period_array)]"
   ]
  },
  {
   "cell_type": "markdown",
   "id": "9fcd8199",
   "metadata": {},
   "source": [
    "## 4.查看清洗后的样本股票覆盖全A比率"
   ]
  },
  {
   "cell_type": "code",
   "execution_count": 49,
   "id": "991283f9",
   "metadata": {},
   "outputs": [
    {
     "data": {
      "text/plain": [
       "0.8271331307998889"
      ]
     },
     "execution_count": 49,
     "metadata": {},
     "output_type": "execute_result"
    },
    {
     "data": {
      "image/png": "[encoded data removed]",
      "text/plain": [
       "<Figure size 800x500 with 2 Axes>"
      ]
     },
     "metadata": {},
     "output_type": "display_data"
    }
   ],
   "source": [
    "#查看样本股票的覆盖度\n",
    "#股票月度数据量\n",
    "price_data = pd.read_csv(f'{path}/price_data.csv',usecols=[1,2])\n",
    "def get_sample_coverage(sample,all,sample_stkcd='WINDCODE',sample_date='period',all_date='TRADE_DT',all_stkcd='S_INFO_WINDCODE',\n",
    "                        period_type='M',datetime_format='%Y%m%d',cut_on='19990101',cut_off='20240101'):\n",
    "    #上限时间与下限时间范围\n",
    "    cut_off = pd.Period(cut_off,freq = period_type)\n",
    "    cut_on = pd.Period(cut_on,freq = period_type)\n",
    "    #股票原始数据\n",
    "    all[sample_date] = pd.to_datetime(all[all_date],format=datetime_format).dt.to_period(period_type)\n",
    "    monthly_nstocks = all.groupby(all[sample_date])[all_stkcd].nunique()\n",
    "    monthly_nstocks = monthly_nstocks[(monthly_nstocks.index >= cut_on) & (monthly_nstocks.index <= cut_off)]\n",
    "    plt.figure(figsize=(8, 5))\n",
    "    plt.subplot(2,1,1)\n",
    "    monthly_nstocks.plot(label='All Stocks')\n",
    "    #样本股票数据\n",
    "    monthly_unique_data = sample.groupby(sample_date)[sample_stkcd].nunique()\n",
    "    monthly_unique_data = monthly_unique_data[(monthly_unique_data.index >= cut_on) & (monthly_unique_data.index <= cut_off)]\n",
    "    monthly_unique_data.plot(label='Sample Stocks')\n",
    "    plt.legend()\n",
    "    plt.title('Monthly number of stocks')\n",
    "    plt.subplot(2,1,2)\n",
    "    #样本股票覆盖率\n",
    "    unique_ratio = monthly_unique_data/monthly_nstocks\n",
    "    unique_ratio.plot()\n",
    "    plt.ylim(0,1)\n",
    "    plt.title('Monthly stocks coverage ratio')\n",
    "    plt.tight_layout()\n",
    "    #返回覆盖率数据，可以具体分析\n",
    "    return unique_ratio\n",
    "monthly_coveragee = get_sample_coverage(sample=monthly_stocks_2,all=price_data,cut_on='20000101')\n",
    "del price_data\n",
    "monthly_coveragee.mean()"
   ]
  },
  {
   "cell_type": "markdown",
   "id": "957b6eb3",
   "metadata": {},
   "source": [
    "monthly_stocks_2.to_csv(f'{path}/导出/monthly_stocks.csv',index=False)"
   ]
  },
  {
   "cell_type": "markdown",
   "id": "253b1353",
   "metadata": {},
   "source": [
    "# 五因子构建"
   ]
  },
  {
   "cell_type": "markdown",
   "id": "85a1f144",
   "metadata": {},
   "source": [
    "### 1.五因子计算"
   ]
  },
  {
   "cell_type": "code",
   "execution_count": 50,
   "id": "d3ba4582",
   "metadata": {},
   "outputs": [],
   "source": [
    "#五因子计算函数\n",
    "def get_label(df, f1, f1_label, date, f1_group, **kwargs):\n",
    "    if f1_group == 3 and kwargs.get('method', None) == 'classical':\n",
    "        df[f1_label] = 2\n",
    "        # 确保使用 loc 进行赋值，并且正确处理分组\n",
    "        quantile_70 = df.groupby(date)[f1].transform(lambda x: x >= x.quantile(0.7))\n",
    "        quantile_30 = df.groupby(date)[f1].transform(lambda x: x <= x.quantile(0.3))\n",
    "        df.loc[quantile_70, f1_label] = 3\n",
    "        df.loc[quantile_30, f1_label] = 1\n",
    "    else:\n",
    "        # 确保 rank 方法使用正确，并且正确处理分组\n",
    "        df[f1_label] = df.groupby(date, group_keys=False)[f1].apply(\n",
    "            lambda x: np.ceil(x.rank() / (len(x) / f1_group))\n",
    "        )\n",
    "    # 确保字符串格式化正确\n",
    "    df[f1_label] = f1_label + df[f1_label].astype(str)\n",
    "    return df\n",
    "def fama_french_five_factor(\n",
    "        df, size, value, profit, invest, ret, date, size_group=2, value_group=3, profit_group=3, invest_group=3,\n",
    "        ret_type='mkt', **kwargs\n",
    "):\n",
    "    \"\"\"\n",
    "    根据给定的数据源和因子列名生成此数据的五因子序列\n",
    "    Args:\n",
    "        df: 数据源\n",
    "        size: 总市值列名\n",
    "        value: 账面市值比列名\n",
    "        profit: 盈利变量列名\n",
    "        invest: 投资变量列名\n",
    "        ret: 收益率列名\n",
    "        date: 日期列名\n",
    "        size_group: 规模因子分组数\n",
    "        value_group: 价值因子分组数\n",
    "        profit_group: 盈利因子分组数\n",
    "        invest_group: 投资因子分组数\n",
    "        ret_type: 组合内股票加权方式，mkt:市值加权, equal:等权重\n",
    "        **kwargs: 需给定method参数，classical即为经典2 * 3分组模式\n",
    "\n",
    "    Returns: 五因子的收益时间序列，市场因子未减去无风险利率\n",
    "\n",
    "    \"\"\"\n",
    "    if kwargs['method'] not in ['classical', 'simple']:\n",
    "        raise ValueError(\"Parameter 'method' is not in ['classical', 'simple']\")\n",
    "\n",
    "    if kwargs['method'] == 'classical' and (size_group != 2 or value_group != 3 or profit_group !=3 or invest_group != 3):\n",
    "        raise ValueError(\"Please Check Parameter group, This is not classical method\")\n",
    "\n",
    "    # 为每个因子进行独立分组\n",
    "    size_label = size + '_G'\n",
    "    value_label = value + '_G'\n",
    "    profit_label = profit + '_G'\n",
    "    invest_label = invest + '_G'\n",
    "    df = get_label(df, f1=size, f1_label=size_label, date=date, f1_group=size_group, **kwargs)\n",
    "    df = get_label(df, f1=value, f1_label=value_label, date=date, f1_group=value_group, **kwargs)\n",
    "    df = get_label(df, f1=profit, f1_label=profit_label, date=date, f1_group=profit_group, **kwargs)\n",
    "    df = get_label(df, f1=invest, f1_label=invest_label, date=date, f1_group=invest_group, **kwargs)\n",
    "\n",
    "    # 计算18个组合的加权收益率\n",
    "    factor_lst = []\n",
    "    for double_label, label in zip(['value_double', 'profit_double', 'invest_double'],\n",
    "                                   [value_label, profit_label, invest_label]):\n",
    "        df[double_label] = df[[size_label, label]].apply(\n",
    "            lambda x: x[size_label] + '/' + x[label], axis=1\n",
    "        )\n",
    "        if ret_type == 'mkt':\n",
    "            ret_series = df.groupby([date, double_label]).apply(\n",
    "                lambda x: (x[ret] * x[size] / x[size].sum()).sum()\n",
    "            ).unstack(double_label)\n",
    "        elif ret_type == 'equal':\n",
    "            ret_series = df.groupby([date, double_label]).apply(\n",
    "                lambda x: x[ret].mean()\n",
    "            ).unstack(double_label)\n",
    "        else:\n",
    "            raise ValueError(\"Parameter 'ret_type' is not in ['mkt', 'equal']\")\n",
    "        factor_lst.append(ret_series)\n",
    "    factor_ret = pd.concat(factor_lst, axis=1)\n",
    "    factor_ret.fillna(0, inplace=True)\n",
    "    factor_ret.reset_index(inplace=True)\n",
    "    factor_ret[date] = factor_ret[date]\n",
    "    factor_ret.dropna(inplace=True)\n",
    "    factor_ret.set_index([date], inplace=True)\n",
    "    \n",
    "    # 计算价值因子\n",
    "    long_hml = [c for c in factor_ret.columns if (value_label+str(int(value_group)) in c) and (size_label in c)]\n",
    "    short_hml = [c for c in factor_ret.columns if (value_label + str(1) in c) and (size_label in c)]\n",
    "    factor_ret['HML'] = factor_ret[long_hml].mean(axis=1) - factor_ret[short_hml].mean(axis=1)\n",
    "\n",
    "    # 计算盈利因子\n",
    "    long_rmw = [c for c in factor_ret.columns if (profit_label+str(int(profit_group)) in c) and (size_label in c)]\n",
    "    short_rmw = [c for c in factor_ret.columns if (profit_label+str(1) in c) and (size_label in c)]\n",
    "    factor_ret['RMW'] = factor_ret[long_rmw].mean(axis=1) - factor_ret[short_rmw].mean(axis=1)\n",
    "\n",
    "    # 计算投资因子\n",
    "    long_cma = [c for c in factor_ret.columns if (invest_label+str(1) in c) and (size_label in c)]\n",
    "    short_cma = [c for c in factor_ret.columns if (invest_label+str(int(invest_group)) in c) and (size_label in c)]\n",
    "    factor_ret['CMA'] = factor_ret[long_cma].mean(axis=1) - factor_ret[short_cma].mean(axis=1)\n",
    "\n",
    "    # 计算规模因子\n",
    "    flag = True\n",
    "    for other_label in [value_label, profit_label, invest_label]:\n",
    "        long_smb = [c for c in factor_ret.columns if (size_label+str(1) in c) and (other_label in c)]\n",
    "        short_smb = [c for c in factor_ret.columns if (size_label+str(int(size_group)) in c) and (other_label in c)]\n",
    "        tmp_smb = factor_ret[long_smb].mean(axis=1) - factor_ret[short_smb].mean(axis=1)\n",
    "        if flag:\n",
    "            smb = tmp_smb.copy()\n",
    "            flag = False\n",
    "            continue\n",
    "        smb = smb + tmp_smb\n",
    "    smb = smb / 3\n",
    "    factor_ret['SMB'] = smb\n",
    "\n",
    "    # 计算市场因子\n",
    "    mkt = df.groupby(date).apply(lambda x: (x[ret] * x[size] / x[size].sum()).sum())\n",
    "    mkt.rename('MARKET', inplace=True)\n",
    "    factor_ret = pd.concat([mkt, factor_ret], axis=1)\n",
    "    #factor_ret['MARKET'] = factor_ret['MARKET'].shift(1)\n",
    "\n",
    "    return factor_ret[['MARKET','SMB', 'HML', 'RMW', 'CMA']]"
   ]
  },
  {
   "cell_type": "code",
   "execution_count": 70,
   "id": "0ced3fe1",
   "metadata": {},
   "outputs": [],
   "source": [
    "#计算五因子,此处用 euqal 和 mkt 方法计算出的检验结果有很大差异\n",
    "five_factors =fama_french_five_factor(df=monthly_stocks_2.copy(), size = '流通市值', value = 'BP', \n",
    "                        profit = 'roe', invest = '总资产增长率', ret = 'pct_change', \n",
    "                        date= 'period', size_group=2, value_group=3, profit_group=3, invest_group=3,\n",
    "                        ret_type='equal',method='classical')"
   ]
  },
  {
   "cell_type": "markdown",
   "id": "47ebde81",
   "metadata": {},
   "source": [
    "### 2.处理无风险利率及调整风险溢价，把wind全A数据作为市场风险溢价"
   ]
  },
  {
   "cell_type": "code",
   "execution_count": 71,
   "id": "e281f6f8",
   "metadata": {},
   "outputs": [],
   "source": [
    "#无风险利率读取与预处理\n",
    "rf_rate = pd.read_csv('/Users/hmt/Documents/ PHBS/courses/investment'\n",
    "                      '/project/data/无风险利率文件135821314(仅供北京大学使用)/TRD_Nrrate.csv',usecols=[1,5])\n",
    "rf_rate['Clsdt'] = pd.to_datetime(rf_rate['Clsdt'])\n",
    "rf_rate['period'] = rf_rate['Clsdt'].dt.to_period('M')\n",
    "rf_rate.sort_values(by=['Clsdt'],inplace=True)\n",
    "rf_rate_monthly = rf_rate.groupby('period').agg({'Nrrmtdt':'first'})\n",
    "cutoff_up = pd.Period(20231231,freq='M')\n",
    "cutoff_down =pd.Period(20000101,freq='M')\n",
    "rf_rate_monthly = rf_rate_monthly[(rf_rate_monthly.index>=cutoff_down)&(rf_rate_monthly.index<=cutoff_up)]\n",
    "rf_rate_monthly.rename(columns={'Nrrmtdt':'rf_rate'},inplace=True)\n",
    "rf_rate_monthly['rf_rate'] = rf_rate_monthly['rf_rate']/100"
   ]
  },
  {
   "cell_type": "code",
   "execution_count": 72,
   "id": "6274128b",
   "metadata": {},
   "outputs": [],
   "source": [
    "#调整市场组合的收益率（市场风险溢价）\n",
    "five_factors['MARKET'] = five_factors['MARKET']-rf_rate_monthly['rf_rate']"
   ]
  },
  {
   "cell_type": "code",
   "execution_count": 73,
   "id": "a3b9c23e",
   "metadata": {},
   "outputs": [],
   "source": [
    "#导入做为对比的 WIND 全 A 市场指数净值时序图\n",
    "windAshare = pd.read_csv(f'{path}/windAshare.csv',usecols=[1,2,4,5,6,7,8,9,10,11,12])\n",
    "windAshare['TRADE_DT'] = pd.to_datetime(windAshare['TRADE_DT'],format='%Y%m%d')\n",
    "#股价行情时间裁剪，选取 20000101 到 20240101\n",
    "cutoff_date_up = pd.to_datetime('20240101')\n",
    "cutoff_date_down = pd.to_datetime('20000101')\n",
    "# 使用布尔索引来选择date小于或等于20240101的行\n",
    "windAshare = windAshare[windAshare['TRADE_DT'] <= cutoff_date_up]\n",
    "windAshare = windAshare[windAshare['TRADE_DT'] >= cutoff_date_down]\n",
    "\n",
    "#计算WIND市场系数\n",
    "windAshare['period'] = windAshare['TRADE_DT'].dt.to_period('M')\n",
    "windAshare_monthly = windAshare.groupby(['period']).agg({'S_DQ_PRECLOSE':'first','S_DQ_CLOSE':'last'})\n",
    "windAshare_monthly['MARKET']=(windAshare_monthly['S_DQ_CLOSE']/windAshare_monthly['S_DQ_PRECLOSE']-1)\n",
    "windAshare_monthly.drop(['S_DQ_PRECLOSE','S_DQ_CLOSE'],axis=1,inplace=True)\n",
    "windAshare_monthly['MARKET'] = windAshare_monthly['MARKET'] - rf_rate_monthly['rf_rate']\n",
    "df_wind = windAshare_monthly.copy()\n",
    "df_wind.index = df_wind.index.to_timestamp()"
   ]
  },
  {
   "cell_type": "code",
   "execution_count": 74,
   "id": "fae38505",
   "metadata": {},
   "outputs": [],
   "source": [
    "#用wind全A作为市场指数的五因子数据\n",
    "wind_f5 = five_factors.copy()\n",
    "wind_f5['MARKET'] = windAshare_monthly['MARKET']"
   ]
  },
  {
   "cell_type": "markdown",
   "id": "06e20cd0",
   "metadata": {},
   "source": [
    "### 3.画出五因子净值变化图"
   ]
  },
  {
   "cell_type": "code",
   "execution_count": 75,
   "id": "62350ca8",
   "metadata": {},
   "outputs": [
    {
     "data": {
      "image/png": "[encoded data removed]",
      "text/plain": [
       "<Figure size 1000x600 with 6 Axes>"
      ]
     },
     "metadata": {},
     "output_type": "display_data"
    }
   ],
   "source": [
    "#画出五因子净值时间序列图\n",
    "df_factor = five_factors.copy()\n",
    "df_factor.index = df_factor.index.to_timestamp()  # 转换 PeriodDtype 到 datetime64\n",
    "fig = plt.figure(figsize=(10,6))\n",
    "ax1 = fig.add_subplot(3,2,1)\n",
    "ax1.plot((df_factor['SMB']+1).cumprod())\n",
    "ax1.set_xlabel('SMB')\n",
    "ax2 = fig.add_subplot(3,2,2)\n",
    "ax2.plot((df_factor['HML']+1).cumprod())\n",
    "ax2.set_xlabel('HML')\n",
    "ax3 = fig.add_subplot(3,2,3)\n",
    "ax3.plot((df_factor['RMW']+1).cumprod())\n",
    "ax3.set_xlabel('RMW')\n",
    "ax4 = fig.add_subplot(3,2,4)\n",
    "ax4.plot((df_factor['CMA']+1).cumprod())\n",
    "ax4.set_xlabel('CMA')\n",
    "ax5 = fig.add_subplot(3,2,5)\n",
    "ax5.plot((df_factor['MARKET']+1).cumprod())\n",
    "ax5.set_xlabel('MARKET')\n",
    "ax6 = fig.add_subplot(3,2,6)\n",
    "ax6.plot((df_wind['MARKET']+1).cumprod())\n",
    "ax6.set_xlabel('WindMarket')\n",
    "plt.subplots_adjust(wspace=0.2,hspace=0.4)\n",
    "plt.show()"
   ]
  },
  {
   "cell_type": "markdown",
   "id": "80035117",
   "metadata": {},
   "source": [
    "### 4.画出 CSMAR 计算的五因子净值变化图"
   ]
  },
  {
   "cell_type": "code",
   "execution_count": 76,
   "id": "f3c86935",
   "metadata": {},
   "outputs": [
    {
     "data": {
      "image/png": "[encoded data removed]",
      "text/plain": [
       "<Figure size 1000x600 with 5 Axes>"
      ]
     },
     "metadata": {},
     "output_type": "display_data"
    }
   ],
   "source": [
    "#读取CSMAR的五因子也跑一下试试\n",
    "test = pd.read_csv('/Users/hmt/Documents/ PHBS/courses/investment/project/data/五因子模型指标(月)153236296(仅供北京大学使用)/STK_MKT_FIVEFACMONTH.csv')\n",
    "\n",
    "condition = ((test['MarkettypeID']=='P9709')&(test['Portfolios']==1))\n",
    "test = test[condition]\n",
    "#市值加权\n",
    "csmar_f5 = test[['TradingMonth', 'RiskPremium1','SMB1', 'HML1', 'RMW1', 'CMA1']].copy()\n",
    "csmar_f5.rename(columns={'TradingMonth':'period','RiskPremium1':'MARKET','SMB1':'SMB', \n",
    "                         'HML1':'HML', 'RMW1':'RMW','CMA1':'CMA'},inplace=True)\n",
    "#等权重加权，与市值加权结果差不多\n",
    "#csmar_f5 = test[['TradingMonth', 'RiskPremium2','SMB2', 'HML2', 'RMW2', 'CMA2']].copy()\n",
    "#csmar_f5.rename(columns={'TradingMonth':'period','RiskPremium2':'MARKET','SMB2':'SMB', \n",
    "#                         'HML2':'HML', 'RMW2':'RMW','CMA2':'CMA'},inplace=True)\n",
    "\n",
    "csmar_f5['period'] = pd.to_datetime(csmar_f5['period'])\n",
    "csmar_f5['period'] = csmar_f5['period'].dt.to_period(freq='M')\n",
    "csmar_f5.set_index('period',inplace=True)\n",
    "\n",
    "#画出五因子净值时间序列图\n",
    "df_factor = csmar_f5.copy()\n",
    "df_factor.index = df_factor.index.to_timestamp()  # 转换 PeriodDtype 到 datetime64\n",
    "fig = plt.figure(figsize=(10,6))\n",
    "ax1 = fig.add_subplot(3,2,1)\n",
    "ax1.plot((df_factor['SMB']+1).cumprod())\n",
    "ax1.set_xlabel('SMB')\n",
    "ax2 = fig.add_subplot(3,2,2)\n",
    "ax2.plot((df_factor['HML']+1).cumprod())\n",
    "ax2.set_xlabel('HML')\n",
    "ax3 = fig.add_subplot(3,2,3)\n",
    "ax3.plot((df_factor['RMW']+1).cumprod())\n",
    "ax3.set_xlabel('RMW')\n",
    "ax4 = fig.add_subplot(3,2,4)\n",
    "ax4.plot((df_factor['CMA']+1).cumprod())\n",
    "ax4.set_xlabel('CMA')\n",
    "ax5 = fig.add_subplot(3,2,5)\n",
    "ax5.plot((df_factor['MARKET']+1).cumprod())\n",
    "ax5.set_xlabel('MARKET')\n",
    "plt.subplots_adjust(wspace=0.2,hspace=0.4)\n",
    "plt.show()"
   ]
  },
  {
   "cell_type": "markdown",
   "id": "bd86af39",
   "metadata": {},
   "source": [
    "### 5.时间序列统计特征：t均值检验，相关系数，描述性统计"
   ]
  },
  {
   "cell_type": "code",
   "execution_count": 77,
   "id": "a8228fbc",
   "metadata": {},
   "outputs": [],
   "source": [
    "#时间序列t检验函数\n",
    "def newy_west_test(data, **kwargs):\n",
    "    mean_test = []\n",
    "    data = data.copy().dropna()#此列删除了空值，注意时间尺度的统一\n",
    "    for column in data.columns:\n",
    "        model = sm.OLS(data[column], np.ones(len(data[column])))\n",
    "        result = model.fit(missing='drop', cov_type='HAC', cov_kwds={'maxlags': 5})\n",
    "        mean_test.append([column, list(result.params)[0], list(result.tvalues)[0], list(result.pvalues)[0]])\n",
    "\n",
    "    mean = \"Ret_mean(%)\"\n",
    "    mean_test = pd.DataFrame(mean_test, columns=['factor', mean, 'T_value', 'P_value'])\n",
    "    mean_test[mean] = mean_test[mean] * 100\n",
    "    mean_test['P_star'] = mean_test.apply(\n",
    "        lambda x:\n",
    "        \"***\" if x['P_value'] <= 0.01 else\n",
    "        (\"**\" if x['P_value'] <= 0.05\n",
    "         else (\"*\" if x['P_value'] <= 0.1\n",
    "               else \"\")), axis=1\n",
    "    )\n",
    "    return mean_test"
   ]
  },
  {
   "cell_type": "code",
   "execution_count": 78,
   "id": "5602a211",
   "metadata": {},
   "outputs": [
    {
     "name": "stdout",
     "output_type": "stream",
     "text": [
      "   factor  Ret_mean(%)   T_value   P_value P_star\n",
      "0  MARKET     0.675329  1.187156  0.235166       \n",
      "1     SMB     0.689110  3.457133  0.000546    ***\n",
      "2     HML     0.311900  1.803435  0.071320      *\n",
      "3     RMW    -0.017511 -0.109176  0.913063       \n",
      "4     CMA     0.026649  0.226446  0.820855       \n",
      "   factor  Ret_mean(%)   T_value   P_value P_star\n",
      "0  MARKET     0.650424  1.132198  0.257551       \n",
      "1     SMB     0.689110  3.457133  0.000546    ***\n",
      "2     HML     0.311900  1.803435  0.071320      *\n",
      "3     RMW    -0.017511 -0.109176  0.913063       \n",
      "4     CMA     0.026649  0.226446  0.820855       \n",
      "   factor  Ret_mean(%)   T_value   P_value P_star\n",
      "0  MARKET     0.564680  1.046836  0.295175       \n",
      "1     SMB     0.682343  2.627971  0.008590    ***\n",
      "2     HML     0.191597  1.055835  0.291044       \n",
      "3     RMW     0.038709  0.234300  0.814752       \n",
      "4     CMA     0.057817  0.424811  0.670974       \n"
     ]
    }
   ],
   "source": [
    "#时间序列 t 检验\n",
    "mean_test1 = newy_west_test(five_factors)\n",
    "mean_test2 = newy_west_test(wind_f5)\n",
    "mean_test3 = newy_west_test(csmar_f5)\n",
    "print(mean_test1)\n",
    "print(mean_test2)\n",
    "print(mean_test3)"
   ]
  },
  {
   "cell_type": "code",
   "execution_count": 79,
   "id": "490a5c45",
   "metadata": {},
   "outputs": [
    {
     "name": "stdout",
     "output_type": "stream",
     "text": [
      "          MARKET       SMB       HML       RMW       CMA\n",
      "MARKET  1.000000  0.104580  0.050144 -0.263662  0.092568\n",
      "SMB     0.104580  1.000000 -0.136160 -0.423207  0.251922\n",
      "HML     0.050144 -0.136160  1.000000 -0.354686  0.558375\n",
      "RMW    -0.263662 -0.423207 -0.354686  1.000000 -0.808079\n",
      "CMA     0.092568  0.251922  0.558375 -0.808079  1.000000\n",
      "          MARKET       SMB       HML       RMW       CMA\n",
      "MARKET  1.000000  0.148849 -0.002592 -0.265673  0.063462\n",
      "SMB     0.148849  1.000000 -0.136160 -0.423207  0.251922\n",
      "HML    -0.002592 -0.136160  1.000000 -0.354686  0.558375\n",
      "RMW    -0.265673 -0.423207 -0.354686  1.000000 -0.808079\n",
      "CMA     0.063462  0.251922  0.558375 -0.808079  1.000000\n",
      "          MARKET       SMB       HML       RMW       CMA\n",
      "MARKET  1.000000  0.180797 -0.169214 -0.304056  0.095029\n",
      "SMB     0.180797  1.000000 -0.451227 -0.728686  0.411342\n",
      "HML    -0.169214 -0.451227  1.000000  0.209346  0.173480\n",
      "RMW    -0.304056 -0.728686  0.209346  1.000000 -0.639888\n",
      "CMA     0.095029  0.411342  0.173480 -0.639888  1.000000\n"
     ]
    }
   ],
   "source": [
    "#计算五因子的相关系数\n",
    "correlation_matrix1 = five_factors.corr(method='spearman')\n",
    "correlation_matrix2 = wind_f5.corr(method='spearman')\n",
    "correlation_matrix3 = csmar_f5.corr(method='spearman')\n",
    "\n",
    "print(correlation_matrix1)\n",
    "print(correlation_matrix2)\n",
    "print(correlation_matrix3)"
   ]
  },
  {
   "cell_type": "code",
   "execution_count": 80,
   "id": "33255273",
   "metadata": {},
   "outputs": [
    {
     "name": "stdout",
     "output_type": "stream",
     "text": [
      "           MARKET         SMB         HML         RMW         CMA\n",
      "count  288.000000  300.000000  300.000000  300.000000  300.000000\n",
      "mean     0.006753    0.007024    0.002777   -0.000029    0.000038\n",
      "std      0.075866    0.032333    0.031581    0.029240    0.021225\n",
      "min     -0.268297   -0.127652   -0.136664   -0.151348   -0.062349\n",
      "25%     -0.039211   -0.012187   -0.012035   -0.017581   -0.013831\n",
      "50%      0.006447    0.007776    0.000959    0.000299    0.000148\n",
      "75%      0.042369    0.025071    0.021286    0.015629    0.012887\n",
      "max      0.303763    0.175586    0.133087    0.122123    0.079322\n",
      "           MARKET         SMB         HML         RMW         CMA\n",
      "count  288.000000  300.000000  300.000000  300.000000  300.000000\n",
      "mean     0.006504    0.007024    0.002777   -0.000029    0.000038\n",
      "std      0.078030    0.032333    0.031581    0.029240    0.021225\n",
      "min     -0.276813   -0.127652   -0.136664   -0.151348   -0.062349\n",
      "25%     -0.039319   -0.012187   -0.012035   -0.017581   -0.013831\n",
      "50%      0.006333    0.007776    0.000959    0.000299    0.000148\n",
      "75%      0.046209    0.025071    0.021286    0.015629    0.012887\n",
      "max      0.289248    0.175586    0.133087    0.122123    0.079322\n",
      "           MARKET         SMB         HML         RMW         CMA\n",
      "count  289.000000  289.000000  289.000000  289.000000  289.000000\n",
      "mean     0.005647    0.006823    0.001916    0.000387    0.000578\n",
      "std      0.072984    0.045763    0.033351    0.029630    0.022834\n",
      "min     -0.262438   -0.221233   -0.143690   -0.108570   -0.068435\n",
      "25%     -0.042785   -0.020201   -0.016249   -0.015619   -0.013088\n",
      "50%      0.004966    0.006500    0.002786   -0.001391    0.001351\n",
      "75%      0.044323    0.033619    0.021122    0.016754    0.014825\n",
      "max      0.224418    0.228551    0.159513    0.137835    0.071632\n"
     ]
    }
   ],
   "source": [
    "#描述性统计\n",
    "describes1 = five_factors.describe()\n",
    "describes2 = wind_f5.describe()\n",
    "describes3 = csmar_f5.describe()\n",
    "print(describes1)\n",
    "print(describes2)\n",
    "print(describes3)"
   ]
  },
  {
   "cell_type": "markdown",
   "id": "0c182ec1",
   "metadata": {},
   "source": [
    "# 单因子检验（暂时不用）"
   ]
  },
  {
   "cell_type": "code",
   "execution_count": 81,
   "id": "3964374f",
   "metadata": {},
   "outputs": [],
   "source": [
    "def gen_value_data(df):\n",
    "    \"\"\"\n",
    "    市值取对数，计算重构的价值因子\n",
    "    :param df: monthly_data\n",
    "    :return: 含有重构的价值的数据\n",
    "    \"\"\"\n",
    "    df['BM1'] = 1 / df['pb']\n",
    "    df['BM2'] = df['book_value'] / df['mkt']\n",
    "    df['EP'] = 1 / df['pe']\n",
    "    df['FCF2M'] = df['FCF'] / df['mkt']\n",
    "    df['Revenue2M'] = df['revenue'] / df['mkt']\n",
    "    df['RE2M'] = df['Retained_Earnings'] / df['mkt']\n",
    "    df['CC2M'] = df['Contributed_Capital'] / df['mkt']\n",
    "\n",
    "    # 取对数计算\n",
    "    df.rename(columns={'mkt': 'ori_mkt'}, inplace=True)\n",
    "    df['mkt'] = np.log(df['ori_mkt'])\n",
    "    return df\n",
    "\n",
    "def winsorize(s):\n",
    "    up_q = s.quantile(0.99)\n",
    "    low_q = s.quantile(0.01)\n",
    "    s = np.where(s > up_q, up_q, s)\n",
    "    s = np.where(s < low_q, low_q, s)\n",
    "    upper = s.mean() + s.std() * 3\n",
    "    low = s.mean() - s.std() * 3\n",
    "    s = np.where(s > upper, upper, s)\n",
    "    s = np.where(s < low, low, s)\n",
    "    return s\n",
    "\n",
    "def newy_west_test(data, factor, **kwargs):\n",
    "    mean_test = []\n",
    "    for column in data.columns:\n",
    "        model = sm.OLS(data[column], np.ones(len(data[column])))\n",
    "        result = model.fit(missing='drop', cov_type='HAC', cov_kwds={'maxlags': 5})\n",
    "        mean_test.append([column, list(result.params)[0], list(result.tvalues)[0], list(result.pvalues)[0]])\n",
    "\n",
    "    mean = \"Ret_mean(%)\"\n",
    "    mean_test = pd.DataFrame(mean_test, columns=[factor, mean, 'T_value', 'P_value'])\n",
    "    mean_test[mean] = mean_test[mean] * 100\n",
    "    mean_test['P_star'] = mean_test.apply(\n",
    "        lambda x:\n",
    "        \"***\" if x['P_value'] <= 0.01 else\n",
    "        (\"**\" if x['P_value'] <= 0.05\n",
    "         else (\"*\" if x['P_value'] <= 0.1\n",
    "               else \"\")), axis=1\n",
    "    )\n",
    "    return mean_test\n",
    "\n",
    "def construct_single_factor_return(df, sort_factor, date, ret, ori_mkt, **kwargs):\n",
    "    df = df.copy()\n",
    "    # rank 越小排前面\n",
    "    group_label = sort_factor + '_G'\n",
    "    # FCF还有缺失，用均值填充一下\n",
    "    df[group_label] = df.groupby(date, group_keys=False)[sort_factor].apply(\n",
    "        lambda x: np.ceil(x.rank() / (len(x) / kwargs[\"groups\"]))\n",
    "    )\n",
    "    if kwargs[\"ret_type\"] == 'mkt':\n",
    "        ret_label = sort_factor + '_mkt_ret'\n",
    "        factor_ret = df.groupby([date, group_label], as_index=False).apply(\n",
    "            lambda x: (x[ret] * x[ori_mkt] / x[ori_mkt].sum()).sum()\n",
    "        )\n",
    "    else:\n",
    "        ret_label = sort_factor + '_mean_ret'\n",
    "        factor_ret = df.groupby([date, group_label], as_index=False).apply(\n",
    "            lambda x: x[ret].mean()\n",
    "        )\n",
    "    factor_ret.rename(columns={factor_ret.columns[-1]: ret_label}, inplace=True)\n",
    "    factor_ret.sort_values(by=[group_label, date], inplace=True)\n",
    "    factor_ret[ret_label] = factor_ret.groupby(group_label)[ret_label].shift(1)\n",
    "    factor_ret.set_index([date, group_label], inplace=True)\n",
    "    return df, factor_ret.dropna()\n",
    "\n",
    "\n",
    "def output_single_test(m_data, value_column, date, ret, ori_mkt, **kwargs):\n",
    "    data, bm_factor = construct_single_factor_return(\n",
    "        m_data, value_column, date, ret, ori_mkt, **kwargs\n",
    "    )\n",
    "    bm_factor_series = bm_factor.unstack(value_column + '_G').droplevel(level=0, axis=1)  # 去除multi columns\n",
    "    bm_factor_series.fillna(0, inplace=True)\n",
    "    bm_factor_series['long_short'] = bm_factor_series[10.0] - bm_factor_series[1.0]\n",
    "\n",
    "    res = newy_west_test(bm_factor_series, value_column, **kwargs)\n",
    "    if not os.path.exists(f\"结果/{kwargs['save_path']}/\"):\n",
    "        os.makedirs(f\"结果/{kwargs['save_path']}/\")\n",
    "    res.to_csv(\n",
    "        f\"结果/{kwargs['save_path']}/{value_column}_{kwargs['ret_type']}_single_test.csv\", index=False\n",
    "    )\n",
    "    return res\n",
    "\n",
    "def single_factor_summary(single_factors, ret_types, path, save=True):\n",
    "    all_test = pd.DataFrame()\n",
    "    for factor in single_factors:\n",
    "        one_test = pd.DataFrame()\n",
    "        for ret_type in ret_types:\n",
    "            t_data = pd.read_csv(path + f\"{factor}_{ret_type}_single_test.csv\")\n",
    "            t_data['Group'] = [str(i) for i in range(1, 10)] + ['High', '多空组合']\n",
    "            t_data['Ret_mean(%)'] = t_data['Ret_mean(%)'].apply(lambda x: format(x, '.2f'))\n",
    "            t_data['Ret_mean(%)'] = t_data['Ret_mean(%)'].astype(str)\n",
    "            t_data['P_star'] = t_data['P_star'].replace(np.NAN, \"\")\n",
    "            t_data['Ret_mean(%)'] = t_data.apply(\n",
    "                lambda x: x['Ret_mean(%)'] + x['P_star'], axis=1\n",
    "            )\n",
    "            t_data['T_value'] = t_data['T_value'].apply(lambda x: \"(\" + format(x, '.2f') + \")\")\n",
    "            t_value = t_data[['Group', 'T_value']].rename(columns={'T_value': f'{ret_type}_test'})\n",
    "            t_value['Group'] = [str(i + 0.5) for i in range(1, 10)] + ['High2', '多空组合2']\n",
    "            res = pd.concat([t_data[['Group', 'Ret_mean(%)']].rename(columns={'Ret_mean(%)': f'{ret_type}_test'}),\n",
    "                             t_value]).sort_values(by='Group')\n",
    "            res.rename(columns={'Group': '分组'}, inplace=True)\n",
    "            res.set_index(['分组'], inplace=True)\n",
    "            if one_test.empty:\n",
    "                one_test = res\n",
    "            else:\n",
    "                one_test = pd.concat([one_test, res], axis=1)\n",
    "                one_test.columns = ['等权重', '市值加权']\n",
    "\n",
    "        one_test = pd.DataFrame(one_test.values, columns=[[factor] * 2, list(one_test.columns)],\n",
    "                                index=[['Low'] * 2 + sorted([str(i) for i in range(2, 10)] * 2)\n",
    "                                       + sorted(['High', '多空组合'] * 2),\n",
    "                                       list(one_test.index)])\n",
    "        if all_test.empty:\n",
    "            all_test = one_test.copy()\n",
    "        else:\n",
    "            all_test = pd.concat([all_test, one_test], axis=1)\n",
    "    all_test = all_test.droplevel(level=-1)\n",
    "    all_test.index.name = '分组'\n",
    "    if save:\n",
    "        all_test.to_excel(path + '检验结果汇总.xlsx')\n",
    "    return all_test"
   ]
  },
  {
   "cell_type": "code",
   "execution_count": 82,
   "id": "b2bc223b",
   "metadata": {},
   "outputs": [],
   "source": [
    "if __name__ == \"__main__\":\n",
    "    mid_path = '/Users/hmt/Documents/ PHBS/courses/investment/project/data/wind底层库数据/导出/'\n",
    "    fig_path = '/Users/hmt/Documents/ PHBS/courses/investment/project/data/wind底层库数据/导出/单因子检验'\n",
    "    monthly_data = pd.read_csv(mid_path + 'monthly_stocks.csv')\n",
    "    # 生成因子原始值，我使用的数据已经生成\n",
    "    # 缩尾\n",
    "    for c in ['BP', 'roe','流通市值','总资产增长率']:\n",
    "        monthly_data[c] = winsorize(monthly_data[c])\n",
    "        \n",
    "    factors = ['BP', 'roe','流通市值','总资产增长率']\n",
    "    types = ['equal', 'mkt']\n",
    "    for c in factors:\n",
    "        for ret_type in types:\n",
    "            output_single_test(\n",
    "                monthly_data, groups=10, value_column=c, date='period' , \n",
    "                ret='pct_change', ori_mkt='流通市值', ret_type=ret_type, save_path='价值因子单因子检验'\n",
    "            )\n",
    "    single_factor_summary(factors, types, path=\"结果/价值因子单因子检验/\",save=True)"
   ]
  },
  {
   "cell_type": "markdown",
   "id": "956575f3",
   "metadata": {},
   "source": [
    "# 因变量构建"
   ]
  },
  {
   "cell_type": "code",
   "execution_count": 83,
   "id": "a8ad12d9",
   "metadata": {},
   "outputs": [],
   "source": [
    "def independent_double_sort(df,groups=5, stkcd='WINDCODE',date='period',\n",
    "                            factor1='流通市值',factor2='BP',time_up='2024-01',time_down='2000-01',freq_type='M'):\n",
    "    \n",
    "    f_5 = df[[stkcd,date,factor1,factor2]].copy()\n",
    "    \n",
    "    f_5 = f_5[f_5[date]>=pd.Period(time_down,freq=freq_type)]\n",
    "    f_5 = f_5[f_5[date]<=pd.Period(time_up,freq=freq_type)]\n",
    "    f_5['g_'+factor2]=f_5.groupby(date)[factor2].transform(lambda x: np.ceil(x.rank()/(len(x)/groups)).astype(int))\n",
    "    f_5['g_'+factor1]=f_5.groupby(date)[factor1].transform(lambda x: np.ceil(x.rank()/(len(x)/groups)).astype(int))\n",
    "    f_5=f_5[[stkcd,date,'g_'+factor1,'g_'+factor2]]\n",
    "    \n",
    "    return pd.merge(df,f_5,on=[stkcd,date],how='right').reset_index(drop=True)\n",
    "\n",
    "def cacaculate_double_sort_ret(df,groups=5,stkcd='WINDCODE',date='period',\n",
    "                               ret='pct_change',factor1='流通市值',factor2='BP',\n",
    "                               time_up='2024-01',time_down='2000-01'):\n",
    "    port25_ret = independent_double_sort(df,groups,stkcd,\n",
    "                                         date,factor1,factor2,time_up,time_down).groupby(['g_'+factor1,\n",
    "                                                                        'g_'+factor2]).apply(lambda x:(x[ret]*100).mean()).reset_index()\n",
    "    port25_ret.rename(columns={port25_ret.columns[-1]:'pct_change_mean'},inplace=True)\n",
    "    port25_ret_pivot=port25_ret.pivot(index='g_'+factor1,columns='g_'+factor2,values='pct_change_mean')\n",
    "    port25_ret_pivot.index.name=None\n",
    "    port25_ret_pivot.columns.name=None\n",
    "    port25_ret_pivot.rename(index={port25_ret_pivot.index[0]:'Small '+factor1,port25_ret_pivot.index[-1]:'Big '+factor1},\n",
    "                            columns={port25_ret_pivot.columns[0]:'Small '+factor2,port25_ret_pivot.columns[-1]:'Big '+factor2},\n",
    "                            inplace=True)\n",
    "    return port25_ret_pivot.head()\n"
   ]
  },
  {
   "cell_type": "code",
   "execution_count": 84,
   "id": "a74a306a",
   "metadata": {},
   "outputs": [
    {
     "data": {
      "text/html": [
       "<div>\n",
       "<style scoped>\n",
       "    .dataframe tbody tr th:only-of-type {\n",
       "        vertical-align: middle;\n",
       "    }\n",
       "\n",
       "    .dataframe tbody tr th {\n",
       "        vertical-align: top;\n",
       "    }\n",
       "\n",
       "    .dataframe thead th {\n",
       "        text-align: right;\n",
       "    }\n",
       "</style>\n",
       "<table border=\"1\" class=\"dataframe\">\n",
       "  <thead>\n",
       "    <tr style=\"text-align: right;\">\n",
       "      <th></th>\n",
       "      <th>Small BP</th>\n",
       "      <th>2</th>\n",
       "      <th>3</th>\n",
       "      <th>4</th>\n",
       "      <th>Big BP</th>\n",
       "    </tr>\n",
       "  </thead>\n",
       "  <tbody>\n",
       "    <tr>\n",
       "      <th>Small 流通市值</th>\n",
       "      <td>1.192117</td>\n",
       "      <td>1.564116</td>\n",
       "      <td>1.925427</td>\n",
       "      <td>2.129569</td>\n",
       "      <td>2.711704</td>\n",
       "    </tr>\n",
       "    <tr>\n",
       "      <th>2</th>\n",
       "      <td>0.848709</td>\n",
       "      <td>1.301858</td>\n",
       "      <td>1.338126</td>\n",
       "      <td>1.531851</td>\n",
       "      <td>1.669678</td>\n",
       "    </tr>\n",
       "    <tr>\n",
       "      <th>3</th>\n",
       "      <td>0.493359</td>\n",
       "      <td>0.844061</td>\n",
       "      <td>0.900648</td>\n",
       "      <td>0.955293</td>\n",
       "      <td>0.924339</td>\n",
       "    </tr>\n",
       "    <tr>\n",
       "      <th>4</th>\n",
       "      <td>0.495295</td>\n",
       "      <td>0.807551</td>\n",
       "      <td>0.744828</td>\n",
       "      <td>0.757061</td>\n",
       "      <td>0.756134</td>\n",
       "    </tr>\n",
       "    <tr>\n",
       "      <th>Big 流通市值</th>\n",
       "      <td>0.526551</td>\n",
       "      <td>0.560641</td>\n",
       "      <td>0.558357</td>\n",
       "      <td>0.610241</td>\n",
       "      <td>0.637216</td>\n",
       "    </tr>\n",
       "  </tbody>\n",
       "</table>\n",
       "</div>"
      ],
      "text/plain": [
       "            Small BP         2         3         4    Big BP\n",
       "Small 流通市值  1.192117  1.564116  1.925427  2.129569  2.711704\n",
       "2           0.848709  1.301858  1.338126  1.531851  1.669678\n",
       "3           0.493359  0.844061  0.900648  0.955293  0.924339\n",
       "4           0.495295  0.807551  0.744828  0.757061  0.756134\n",
       "Big 流通市值    0.526551  0.560641  0.558357  0.610241  0.637216"
      ]
     },
     "execution_count": 84,
     "metadata": {},
     "output_type": "execute_result"
    }
   ],
   "source": [
    "#调用分组透视输出分析数据\n",
    "port25_ret_pivot = cacaculate_double_sort_ret(monthly_stocks_2,factor2='BP',time_up='2024-01',time_down='2000-01')\n",
    "port25_ret_pivot"
   ]
  },
  {
   "cell_type": "markdown",
   "id": "2ba91f96",
   "metadata": {},
   "source": [
    "# 因子模型回归分析"
   ]
  },
  {
   "cell_type": "markdown",
   "id": "ff1d1612",
   "metadata": {},
   "source": [
    "### 1.五因子模型"
   ]
  },
  {
   "cell_type": "code",
   "execution_count": 85,
   "id": "80c20d59",
   "metadata": {},
   "outputs": [],
   "source": [
    "def GRS(alpha, resids, factor):\n",
    "    # GRS test statistic\n",
    "    # N个待检验资产组合, L个因子, and T 时间周期\n",
    "    # alpha是定价误差，Nx1的数组\n",
    "    # resids回归的残差，TxN的数组\n",
    "    # factor是因子收益率，TxL的数组\n",
    "    T, N = resids.shape\n",
    "    L = factor.shape[1]\n",
    "    factor_mean = np.nanmean(factor, axis=0)\n",
    "    cov_resids = np.matmul(resids.T, resids) / (T-L-1)\n",
    "    cov_fac = np.matmul(np.array(factor - np.nanmean(factor, axis=0)).T, np.array(factor - np.nanmean(factor, axis=0))) / T-1\n",
    "    GRS = (T / N) * ((T - N - L) / (T - L - 1)) * ((np.matmul(np.matmul(alpha.T, inv(cov_resids)), alpha)) / (1 + (np.matmul(np.matmul(factor_mean.T, inv(cov_fac)), factor_mean))))\n",
    "    pVal = 1 - scipy.stats.f.cdf(GRS, N, T - N - L) #需引用F分布“scipy.stats.f”\n",
    "    return GRS, pVal\n",
    "\n",
    "# FF5因子回归\n",
    "def FF5_regression(df,df_f5,df_rf,groups=5,stkcd='WINDCODE',date='period',factor1='流通市值',factor2='BP',\n",
    "                   ret='pct_change',mv='流通市值',time_up='2024-01',time_down='2000-01',freq_type='M'):\n",
    "    ds_stocks = independent_double_sort(df,groups,stkcd,date,factor1,factor2,time_up,time_down,freq_type)\n",
    "    ds_stocks['group']=ds_stocks.apply(lambda x:factor2+str(int(x['g_'+factor2]))+\n",
    "                                       '-'+factor1+str(int(x['g_'+factor1])),axis=1)\n",
    "    f25=ds_stocks.groupby([date,'group']).apply(lambda x: (x[ret]*x[mv]).sum()/x[mv].sum())\n",
    "    f25=f25.unstack()\n",
    "    f25=pd.merge(f25,df_f5,how='inner',left_index=True,right_index=True)\n",
    "    f25=pd.merge(f25,df_rf,how='inner',left_index=True,right_index=True)\n",
    "    f25['Intercept']=1\n",
    "    \n",
    "    #FF5\n",
    "    x=f25.loc[:,['MARKET','SMB','HML','RMW','CMA','Intercept','rf_rate']]\n",
    "    x.fillna(0,inplace=True)\n",
    "    r2=[]\n",
    "    betas=[]\n",
    "    t=[]\n",
    "    p=[]\n",
    "    resid_list=[]\n",
    "    for i in range(25):\n",
    "        y=f25.loc[:,f25.columns[i]]\n",
    "        mod=sm.OLS(y-x['rf_rate'],x[['MARKET','SMB','HML','RMW','CMA','Intercept']]).fit()\n",
    "        \n",
    "        resid_list.append(mod.resid.values)\n",
    "        r2.append([f25.columns[i],mod.rsquared])\n",
    "        betas.append([f25.columns[i]]+list(mod.params))\n",
    "        t.append([f25.columns[i]]+list(mod.tvalues))\n",
    "        p.append([f25.columns[i]]+list(mod.pvalues))\n",
    "\n",
    "    p=pd.DataFrame(p,columns=['group','MARKET','SMB','HML','RMW','CMA','Intercept'])\n",
    "    t=pd.DataFrame(t,columns=['group','MARKET','SMB','HML','RMW','CMA','Intercept'])\n",
    "    betas=pd.DataFrame(betas,columns=['group','MARKET','SMB','HML','RMW','CMA','Intercept'])\n",
    "    r2=pd.DataFrame(r2,columns=['group','r2'])\n",
    "\n",
    "    resid_array = np.concatenate(resid_list).reshape(-1,groups*groups)\n",
    "    alpha_array = betas['Intercept'].to_numpy().reshape(-1,1)\n",
    "    factor_array = f25[['MARKET','SMB','HML','RMW','CMA']].to_numpy()\n",
    "    grs,Pgrs = GRS(alpha_array,resid_array,factor_array)\n",
    "    print(f'GRS检验结果:{grs[0][0]:.4f},p值(pGRS):{Pgrs[0][0]*100:.2f}%') #GRS检验\n",
    "    return p,t,betas,r2"
   ]
  },
  {
   "cell_type": "code",
   "execution_count": 127,
   "id": "f5f9f155",
   "metadata": {},
   "outputs": [
    {
     "name": "stdout",
     "output_type": "stream",
     "text": [
      "GRS检验结果:3.7326,p值(pGRS):0.00%\n"
     ]
    }
   ],
   "source": [
    "#模型调用，计算五因子模型，此处用的 wind_f5,因为实验后效果更好，可能是剔除股票的原因把\n",
    "p,t,betas,r2 = FF5_regression(df = monthly_stocks_2,\n",
    "                              df_f5 =  wind_f5, df_rf = rf_rate_monthly,\n",
    "                              factor1='流通市值',factor2='roe',time_up='2023-12',time_down='2000-01')"
   ]
  },
  {
   "cell_type": "code",
   "execution_count": 128,
   "id": "6227bae8",
   "metadata": {},
   "outputs": [
    {
     "data": {
      "text/plain": [
       "group        6\n",
       "MARKET       6\n",
       "SMB          6\n",
       "HML          6\n",
       "RMW          6\n",
       "CMA          6\n",
       "Intercept    6\n",
       "dtype: int64"
      ]
     },
     "execution_count": 128,
     "metadata": {},
     "output_type": "execute_result"
    }
   ],
   "source": [
    "#解释效力\n",
    "#t.style.applymap(lambda x: 'color: red' if abs(x) >=2 else 'color:None',subset='Intercept')\n",
    "t[t['Intercept'].abs()>=2].count()"
   ]
  },
  {
   "cell_type": "code",
   "execution_count": 129,
   "id": "b7dc7667",
   "metadata": {},
   "outputs": [
    {
     "name": "stdout",
     "output_type": "stream",
     "text": [
      "0.002188279945418255\n",
      "0.9319582636806798\n",
      "1.4977783717449977\n"
     ]
    }
   ],
   "source": [
    "print(abs(betas['Intercept']).mean())\n",
    "print(abs(r2['r2']).mean())\n",
    "print(abs(t['Intercept']).mean())"
   ]
  },
  {
   "cell_type": "code",
   "execution_count": 130,
   "id": "50499157",
   "metadata": {},
   "outputs": [
    {
     "name": "stdout",
     "output_type": "stream",
     "text": [
      "GRS检验结果:3.9228,p值(pGRS):0.00%\n"
     ]
    }
   ],
   "source": [
    "#模型调用,csmar因子\n",
    "p,t,betas,r2 = FF5_regression(df = monthly_stocks_2,\n",
    "                              df_f5 = csmar_f5, df_rf = rf_rate_monthly,\n",
    "                              factor1='流通市值',factor2='roe',time_up='2023-12',time_down='2000-01')"
   ]
  },
  {
   "cell_type": "code",
   "execution_count": 131,
   "id": "609f3237",
   "metadata": {},
   "outputs": [
    {
     "name": "stdout",
     "output_type": "stream",
     "text": [
      "0.0025400548648633016\n",
      "0.9250589819660914\n",
      "1.652675752343013\n"
     ]
    }
   ],
   "source": [
    "print(abs(betas['Intercept']).mean())\n",
    "print(abs(r2['r2']).mean())\n",
    "print(abs(t['Intercept']).mean())"
   ]
  },
  {
   "cell_type": "code",
   "execution_count": 132,
   "id": "dbb905e0",
   "metadata": {},
   "outputs": [
    {
     "data": {
      "text/plain": [
       "group        8\n",
       "MARKET       8\n",
       "SMB          8\n",
       "HML          8\n",
       "RMW          8\n",
       "CMA          8\n",
       "Intercept    8\n",
       "dtype: int64"
      ]
     },
     "execution_count": 132,
     "metadata": {},
     "output_type": "execute_result"
    }
   ],
   "source": [
    "t.style.applymap(lambda x: 'color: red' if abs(x) >=2 else 'color:None',subset='Intercept')\n",
    "t[t['Intercept'].abs()>=2].count()"
   ]
  },
  {
   "cell_type": "markdown",
   "id": "d7e204a5",
   "metadata": {},
   "source": [
    "### 2.CAPM模型"
   ]
  },
  {
   "cell_type": "code",
   "execution_count": 92,
   "id": "8b4db11e",
   "metadata": {},
   "outputs": [],
   "source": [
    "# CAPM回归\n",
    "def CAPM_regression(df,df_f5,df_rf,groups=5,stkcd='WINDCODE',date='period',factor1='流通市值',factor2='BP',\n",
    "                   ret='pct_change',mv='流通市值',time_up='2024-01',time_down='2000-01',freq_type='M'):\n",
    "    ds_stocks = independent_double_sort(df,groups,stkcd,date,factor1,factor2,time_up,time_down,freq_type)\n",
    "    ds_stocks['group']=ds_stocks.apply(lambda x:factor2+str(int(x['g_'+factor2]))+\n",
    "                                       '-'+factor1+str(int(x['g_'+factor1])),axis=1)\n",
    "    f25=ds_stocks.groupby([date,'group']).apply(lambda x: (x[ret]*x[mv]).sum()/x[mv].sum())\n",
    "    f25=f25.unstack()\n",
    "    f25=pd.merge(f25,df_f5,how='inner',left_index=True,right_index=True)\n",
    "    f25=pd.merge(f25,df_rf,how='inner',left_index=True,right_index=True)\n",
    "    f25['Intercept']=1\n",
    "\n",
    "    #CAPM\n",
    "    x=f25.loc[:,['MARKET','Intercept','rf_rate']]\n",
    "    x.fillna(0,inplace=True)\n",
    "    r2=[]\n",
    "    betas=[]\n",
    "    t=[]\n",
    "    p=[]\n",
    "    resid_list = []\n",
    "    for i in range(25):\n",
    "        y=f25.loc[:,f25.columns[i]]\n",
    "        mod=sm.OLS(y-x['rf_rate'],x[['MARKET','Intercept']]).fit()\n",
    "        resid_list.append(mod.resid.values)    \n",
    "        r2.append([f25.columns[i],mod.rsquared])\n",
    "        betas.append([f25.columns[i]]+list(mod.params))\n",
    "        t.append([f25.columns[i]]+list(mod.tvalues))\n",
    "        p.append([f25.columns[i]]+list(mod.pvalues))\n",
    "\n",
    "    p=pd.DataFrame(p,columns=['group','MARKET','Intercept'])\n",
    "    t=pd.DataFrame(t,columns=['group','MARKET','Intercept'])\n",
    "    betas=pd.DataFrame(betas,columns=['group','MARKET','Intercept'])\n",
    "    r2=pd.DataFrame(r2,columns=['group','r2'])\n",
    "\n",
    "    resid_array = np.concatenate(resid_list).reshape(-1,groups*groups)\n",
    "    alpha_array = betas['Intercept'].to_numpy().reshape(-1,1)\n",
    "    factor_array = f25[['MARKET']].to_numpy()\n",
    "    grs,Pgrs = GRS(alpha_array,resid_array,factor_array)\n",
    "    print(f'GRS检验结果:{grs[0][0]:.4f},p值(pGRS):{Pgrs[0][0]*100:.2f}%') #GRS检验\n",
    "    return p,t,betas,r2"
   ]
  },
  {
   "cell_type": "code",
   "execution_count": 93,
   "id": "a1f4ba09",
   "metadata": {},
   "outputs": [
    {
     "name": "stdout",
     "output_type": "stream",
     "text": [
      "GRS检验结果:3.8544,p值(pGRS):0.00%\n"
     ]
    }
   ],
   "source": [
    "#模型调用\n",
    "p_capm,t_capm,betas_capm,r2_capm = CAPM_regression(df = monthly_stocks_2,\n",
    "                                                   df_f5 = five_factors, df_rf = rf_rate_monthly,\n",
    "                                                   factor1='流通市值',factor2='BP',time_up='2023-12',time_down='2000-01')"
   ]
  },
  {
   "cell_type": "code",
   "execution_count": 94,
   "id": "ebd6abe1",
   "metadata": {},
   "outputs": [
    {
     "name": "stdout",
     "output_type": "stream",
     "text": [
      "0.003986808040661757\n",
      "0.7846306557759861\n"
     ]
    }
   ],
   "source": [
    "print(abs(betas_capm['Intercept']).mean())\n",
    "print(abs(r2_capm['r2']).mean())"
   ]
  },
  {
   "cell_type": "code",
   "execution_count": 165,
   "id": "c4964360",
   "metadata": {},
   "outputs": [
    {
     "name": "stdout",
     "output_type": "stream",
     "text": [
      "GRS检验结果:3.8466,p值(pGRS):0.00%\n"
     ]
    }
   ],
   "source": [
    "#模型调用,csmar因子\n",
    "p_capm,t_capm,betas_capm,r2_capm = CAPM_regression(df = monthly_stocks_2,\n",
    "                                                   df_f5 = csmar_f5, df_rf = rf_rate_monthly,\n",
    "                                                   factor1='流通市值',factor2='BP',time_up='2023-12',time_down='2000-01')"
   ]
  },
  {
   "cell_type": "code",
   "execution_count": 44,
   "id": "4f6f22a5",
   "metadata": {},
   "outputs": [
    {
     "name": "stdout",
     "output_type": "stream",
     "text": [
      "0.004949828185165916\n",
      "0.7174496064245591\n"
     ]
    }
   ],
   "source": [
    "print(abs(betas_capm['Intercept']).mean())\n",
    "print(abs(r2_capm['r2']).mean())"
   ]
  },
  {
   "cell_type": "markdown",
   "id": "77396768",
   "metadata": {},
   "source": [
    "### 3.任意因子回归，默认为 3 因子模型"
   ]
  },
  {
   "cell_type": "code",
   "execution_count": 95,
   "id": "93cbdf41",
   "metadata": {},
   "outputs": [],
   "source": [
    "# 任意因子回归模型,默认为3因子\n",
    "def nfactors_regression(df,df_f5,df_rf,nfactors=['MARKET','SMB','HML','Intercept','rf_rate'],groups=5,stkcd='WINDCODE',date='period',factor1='流通市值',factor2='BP',\n",
    "                   ret='pct_change',mv='流通市值',time_up='2024-01',time_down='2000-01',freq_type='M'):\n",
    "    ds_stocks = independent_double_sort(df,groups,stkcd,date,factor1,factor2,time_up,time_down,freq_type)\n",
    "    ds_stocks['group']=ds_stocks.apply(lambda x:factor2+str(int(x['g_'+factor2]))+\n",
    "                                       '-'+factor1+str(int(x['g_'+factor1])),axis=1)\n",
    "    f25=ds_stocks.groupby([date,'group']).apply(lambda x: (x[ret]*x[mv]).sum()/x[mv].sum())\n",
    "    f25=f25.unstack()\n",
    "    f25=pd.merge(f25,df_f5,how='inner',left_index=True,right_index=True)\n",
    "    f25=pd.merge(f25,df_rf,how='inner',left_index=True,right_index=True)\n",
    "    f25['Intercept']=1\n",
    "    \n",
    "    #FF5\n",
    "    x=f25[nfactors]\n",
    "    x.fillna(0,inplace=True)\n",
    "    r2=[]\n",
    "    betas=[]\n",
    "    t=[]\n",
    "    p=[]\n",
    "    resid_list=[]\n",
    "    nfactors_copy = [f for f in nfactors if f != 'rf_rate']\n",
    "    \n",
    "    for i in range(25):\n",
    "        y=f25.loc[:,f25.columns[i]]\n",
    "        mod=sm.OLS(y-x['rf_rate'],x[nfactors_copy]).fit()\n",
    "        resid_list.append(mod.resid.values)\n",
    "        r2.append([f25.columns[i],mod.rsquared])\n",
    "        betas.append([f25.columns[i]]+list(mod.params))\n",
    "        t.append([f25.columns[i]]+list(mod.tvalues))\n",
    "        p.append([f25.columns[i]]+list(mod.pvalues))\n",
    "    \n",
    "\n",
    "    p=pd.DataFrame(p,columns=['group'] + nfactors_copy)\n",
    "    t=pd.DataFrame(t,columns=['group'] + nfactors_copy)\n",
    "    betas=pd.DataFrame(betas,columns=['group'] + nfactors_copy)\n",
    "    r2=pd.DataFrame(r2,columns=['group','r2'])\n",
    "\n",
    "    resid_array = np.concatenate(resid_list).reshape(-1,groups*groups)\n",
    "    alpha_array = betas['Intercept'].to_numpy().reshape(-1,1)\n",
    "    nfactors_identity = [f for f in nfactors_copy if f !='Intercept']\n",
    "    factor_array = f25[nfactors_identity].to_numpy()\n",
    "    grs,Pgrs = GRS(alpha_array,resid_array,factor_array)\n",
    "    print(f'GRS检验结果:{grs[0][0]:.4f},p值(pGRS):{Pgrs[0][0]*100:.2f}%') #GRS检验\n",
    "\n",
    "    return p,t,betas,r2"
   ]
  },
  {
   "cell_type": "code",
   "execution_count": 96,
   "id": "e22169db",
   "metadata": {},
   "outputs": [
    {
     "name": "stdout",
     "output_type": "stream",
     "text": [
      "GRS检验结果:3.6211,p值(pGRS):0.00%\n"
     ]
    }
   ],
   "source": [
    "#模型调用\n",
    "p_3,t_3,betas_3,r2_3 = nfactors_regression(df = monthly_stocks_2,df_f5 = wind_f5, df_rf = rf_rate_monthly,\n",
    "                                           nfactors=['MARKET','SMB','HML','Intercept','rf_rate'],\n",
    "                                           factor1='流通市值',factor2='BP')"
   ]
  },
  {
   "cell_type": "code",
   "execution_count": 97,
   "id": "f9c664e1",
   "metadata": {},
   "outputs": [
    {
     "name": "stdout",
     "output_type": "stream",
     "text": [
      "0.0022836055711684612\n",
      "0.9321690025521628\n"
     ]
    }
   ],
   "source": [
    "print(abs(betas_3['Intercept']).mean())\n",
    "print(abs(r2_3['r2']).mean())"
   ]
  },
  {
   "cell_type": "code",
   "execution_count": 98,
   "id": "c7672429",
   "metadata": {},
   "outputs": [
    {
     "name": "stdout",
     "output_type": "stream",
     "text": [
      "GRS检验结果:4.9883,p值(pGRS):0.00%\n"
     ]
    }
   ],
   "source": [
    "#模型调用,csmar的三因子\n",
    "p_3,t_3,betas_3,r2_3 = nfactors_regression(df = monthly_stocks_2,df_f5 = csmar_f5, df_rf = rf_rate_monthly,\n",
    "                                           nfactors=['MARKET','SMB','HML','Intercept','rf_rate'],\n",
    "                                           factor1='流通市值',factor2='BP')"
   ]
  },
  {
   "cell_type": "code",
   "execution_count": 99,
   "id": "86a80c9c",
   "metadata": {},
   "outputs": [
    {
     "name": "stdout",
     "output_type": "stream",
     "text": [
      "0.0025726124426995976\n",
      "0.926929433290369\n"
     ]
    }
   ],
   "source": [
    "print(abs(betas_3['Intercept']).mean())\n",
    "print(abs(r2_3['r2']).mean())"
   ]
  },
  {
   "cell_type": "code",
   "execution_count": 100,
   "id": "c1944dc4",
   "metadata": {},
   "outputs": [
    {
     "name": "stdout",
     "output_type": "stream",
     "text": [
      "GRS检验结果:1.8847,p值(pGRS):0.80%\n",
      "0.0015650595375965217\n",
      "0.9352302374125822\n"
     ]
    }
   ],
   "source": [
    "#模型调用,4因子,无CMA\n",
    "p_31,t_31,betas_31,r2_31 = nfactors_regression(df = monthly_stocks_2,df_f5 = wind_f5, df_rf = rf_rate_monthly,\n",
    "                                           nfactors=['MARKET','SMB','HML','RMW','Intercept','rf_rate'],\n",
    "                                           factor1='流通市值',factor2='BP')\n",
    "print(abs(betas_31['Intercept']).mean())\n",
    "print(abs(r2_31['r2']).mean())"
   ]
  },
  {
   "cell_type": "code",
   "execution_count": 101,
   "id": "7746c194",
   "metadata": {},
   "outputs": [
    {
     "data": {
      "text/plain": [
       "group        3\n",
       "MARKET       3\n",
       "SMB          3\n",
       "HML          3\n",
       "RMW          3\n",
       "Intercept    3\n",
       "dtype: int64"
      ]
     },
     "execution_count": 101,
     "metadata": {},
     "output_type": "execute_result"
    }
   ],
   "source": [
    "t_31[t_31['Intercept'].abs()>=2].count()"
   ]
  },
  {
   "cell_type": "code",
   "execution_count": 102,
   "id": "ad76f7a7",
   "metadata": {},
   "outputs": [
    {
     "name": "stdout",
     "output_type": "stream",
     "text": [
      "GRS检验结果:4.6904,p值(pGRS):0.00%\n",
      "0.0022645546461008766\n",
      "0.9287726537436458\n"
     ]
    }
   ],
   "source": [
    "#模型调用,csmar的4因子\n",
    "p_31,t_31,betas_31,r2_31 = nfactors_regression(df = monthly_stocks_2,df_f5 = csmar_f5, df_rf = rf_rate_monthly,\n",
    "                                           nfactors=['MARKET','SMB','HML','RMW','Intercept','rf_rate'],\n",
    "                                           factor1='流通市值',factor2='BP')\n",
    "print(abs(betas_31['Intercept']).mean())\n",
    "print(abs(r2_31['r2']).mean())"
   ]
  },
  {
   "cell_type": "code",
   "execution_count": 103,
   "id": "231068d8",
   "metadata": {},
   "outputs": [
    {
     "data": {
      "text/plain": [
       "group        6\n",
       "MARKET       6\n",
       "SMB          6\n",
       "HML          6\n",
       "RMW          6\n",
       "Intercept    6\n",
       "dtype: int64"
      ]
     },
     "execution_count": 103,
     "metadata": {},
     "output_type": "execute_result"
    }
   ],
   "source": [
    "t_31[t_31['Intercept'].abs()>=2].count()"
   ]
  },
  {
   "cell_type": "code",
   "execution_count": 104,
   "id": "efed27ab",
   "metadata": {},
   "outputs": [
    {
     "name": "stdout",
     "output_type": "stream",
     "text": [
      "GRS检验结果:2.2313,p值(pGRS):0.10%\n",
      "0.0017729680271732695\n",
      "0.9347351452966296\n"
     ]
    }
   ],
   "source": [
    "#模型调用,4因子:无RMW\n",
    "p_32,t_32,betas_32,r2_32 = nfactors_regression(df = monthly_stocks_2,df_f5 = wind_f5, df_rf = rf_rate_monthly,\n",
    "                                           nfactors=['MARKET','SMB','HML','CMA','Intercept','rf_rate'],\n",
    "                                           factor1='流通市值',factor2='BP')\n",
    "print(abs(betas_32['Intercept']).mean())\n",
    "print(abs(r2_32['r2']).mean())"
   ]
  },
  {
   "cell_type": "code",
   "execution_count": 105,
   "id": "449b5e59",
   "metadata": {},
   "outputs": [
    {
     "name": "stdout",
     "output_type": "stream",
     "text": [
      "GRS检验结果:4.8854,p值(pGRS):0.00%\n",
      "0.0023926289101809024\n",
      "0.9287898276693595\n"
     ]
    }
   ],
   "source": [
    "#模型调用,csmar的4因子\n",
    "p_32,t_32,betas_32,r2_32 = nfactors_regression(df = monthly_stocks_2,df_f5 = csmar_f5, df_rf = rf_rate_monthly,\n",
    "                                           nfactors=['MARKET','SMB','HML','CMA','Intercept','rf_rate'],\n",
    "                                           factor1='流通市值',factor2='BP')\n",
    "print(abs(betas_32['Intercept']).mean())\n",
    "print(abs(r2_32['r2']).mean())"
   ]
  },
  {
   "cell_type": "code",
   "execution_count": 106,
   "id": "2296f5c3",
   "metadata": {},
   "outputs": [
    {
     "name": "stdout",
     "output_type": "stream",
     "text": [
      "GRS检验结果:4.3228,p值(pGRS):0.00%\n",
      "0.002425090932613852\n",
      "0.9233077279217955\n"
     ]
    }
   ],
   "source": [
    "#模型调用,4因子:无HML\n",
    "p_33,t_33,betas_33,r2_33 = nfactors_regression(df = monthly_stocks_2,df_f5 = wind_f5, df_rf = rf_rate_monthly,\n",
    "                                           nfactors=['MARKET','SMB','RMW','CMA','Intercept','rf_rate'],\n",
    "                                           factor1='流通市值',factor2='BP')\n",
    "print(abs(betas_33['Intercept']).mean())\n",
    "print(abs(r2_33['r2']).mean())"
   ]
  },
  {
   "cell_type": "code",
   "execution_count": 107,
   "id": "bb249203",
   "metadata": {},
   "outputs": [
    {
     "name": "stdout",
     "output_type": "stream",
     "text": [
      "GRS检验结果:4.4055,p值(pGRS):0.00%\n",
      "0.0026995898161538833\n",
      "0.924610220669176\n"
     ]
    }
   ],
   "source": [
    "#模型调用,csmar的4因子\n",
    "p_33,t_33,betas_33,r2_33 = nfactors_regression(df = monthly_stocks_2,df_f5 = csmar_f5, df_rf = rf_rate_monthly,\n",
    "                                           nfactors=['MARKET','SMB','RMW','CMA','Intercept','rf_rate'],\n",
    "                                           factor1='流通市值',factor2='roe')\n",
    "print(abs(betas_33['Intercept']).mean())\n",
    "print(abs(r2_33['r2']).mean())"
   ]
  },
  {
   "cell_type": "code",
   "execution_count": 108,
   "id": "0e38e36e",
   "metadata": {},
   "outputs": [
    {
     "name": "stdout",
     "output_type": "stream",
     "text": [
      "GRS检验结果:12.7221,p值(pGRS):0.00%\n",
      "0.005611653445620196\n",
      "0.8876938324762061\n"
     ]
    }
   ],
   "source": [
    "#模型调用,4因子:无SMB\n",
    "p_34,t_34,betas_34,r2_34 = nfactors_regression(df = monthly_stocks_2,df_f5 = wind_f5, df_rf = rf_rate_monthly,\n",
    "                                           nfactors=['MARKET','HML','RMW','CMA','Intercept','rf_rate'],\n",
    "                                           factor1='流通市值',factor2='BP')\n",
    "print(abs(betas_34['Intercept']).mean())\n",
    "print(abs(r2_34['r2']).mean())"
   ]
  },
  {
   "cell_type": "code",
   "execution_count": 109,
   "id": "1e33d5b8",
   "metadata": {},
   "outputs": [
    {
     "name": "stdout",
     "output_type": "stream",
     "text": [
      "GRS检验结果:15.7560,p值(pGRS):0.00%\n",
      "0.0060661330771997835\n",
      "0.8824568931818197\n"
     ]
    }
   ],
   "source": [
    "#模型调用,csmar的4因子\n",
    "p_34,t_34,betas_34,r2_34 = nfactors_regression(df = monthly_stocks_2,df_f5 = csmar_f5, df_rf = rf_rate_monthly,\n",
    "                                           nfactors=['MARKET','HML','RMW','CMA','Intercept','rf_rate'],\n",
    "                                           factor1='流通市值',factor2='BP')\n",
    "print(abs(betas_34['Intercept']).mean())\n",
    "print(abs(r2_34['r2']).mean())"
   ]
  },
  {
   "cell_type": "markdown",
   "id": "c8c7489f",
   "metadata": {},
   "source": [
    "### 4.解释变量互相回归"
   ]
  },
  {
   "cell_type": "code",
   "execution_count": 110,
   "id": "0b04360e",
   "metadata": {},
   "outputs": [],
   "source": [
    "# 自变量交叉回归\n",
    "def cross_independent_variable_regression(df_f5,nfactors=['MARKET','SMB','HML','RMW','CMA','Intercept'],\n",
    "                                         time_down='2000-01',time_up='2024-01',freq_type='M'):\n",
    "    \n",
    "    #互相回归\n",
    "    f25 = df_f5.copy()\n",
    "    f25['Intercept']=1\n",
    "    f25 = f25[f25.index>=pd.Period(time_down,freq=freq_type)]\n",
    "    f25 = f25[f25.index<=pd.Period(time_up,freq=freq_type)]\n",
    "    x=f25.loc[:,nfactors]\n",
    "    x.fillna(0,inplace=True)\n",
    "    r2=[]\n",
    "    betas=[]\n",
    "    t=[]\n",
    "    p=[]\n",
    "    i=0\n",
    "    for col in nfactors:\n",
    "        nfactors_copy = [f for f in nfactors if f != col ]    \n",
    "        y=x[col]\n",
    "        mod=sm.OLS(y,x[nfactors_copy]).fit()\n",
    " \n",
    "        r2.append([col,mod.rsquared])\n",
    "        betas.append(mod.params)\n",
    "        t.append(mod.tvalues)\n",
    "        p.append(mod.pvalues)\n",
    "        i+=1\n",
    "        if i>4:\n",
    "            break\n",
    "        \n",
    "    p=pd.DataFrame(p)\n",
    "    t=pd.DataFrame(t)\n",
    "    betas=pd.DataFrame(betas)\n",
    "    r2=pd.DataFrame(r2)\n",
    "    r2.columns=[['因变量','R2']]\n",
    "    return p,t,betas,r2\n"
   ]
  },
  {
   "cell_type": "code",
   "execution_count": 111,
   "id": "6366303c",
   "metadata": {
    "scrolled": false
   },
   "outputs": [
    {
     "data": {
      "text/html": [
       "<div>\n",
       "<style scoped>\n",
       "    .dataframe tbody tr th:only-of-type {\n",
       "        vertical-align: middle;\n",
       "    }\n",
       "\n",
       "    .dataframe tbody tr th {\n",
       "        vertical-align: top;\n",
       "    }\n",
       "\n",
       "    .dataframe thead tr th {\n",
       "        text-align: left;\n",
       "    }\n",
       "</style>\n",
       "<table border=\"1\" class=\"dataframe\">\n",
       "  <thead>\n",
       "    <tr>\n",
       "      <th></th>\n",
       "      <th>因变量</th>\n",
       "      <th>R2</th>\n",
       "    </tr>\n",
       "  </thead>\n",
       "  <tbody>\n",
       "    <tr>\n",
       "      <th>0</th>\n",
       "      <td>MARKET</td>\n",
       "      <td>0.170119</td>\n",
       "    </tr>\n",
       "    <tr>\n",
       "      <th>1</th>\n",
       "      <td>SMB</td>\n",
       "      <td>0.402592</td>\n",
       "    </tr>\n",
       "    <tr>\n",
       "      <th>2</th>\n",
       "      <td>HML</td>\n",
       "      <td>0.501945</td>\n",
       "    </tr>\n",
       "    <tr>\n",
       "      <th>3</th>\n",
       "      <td>RMW</td>\n",
       "      <td>0.793183</td>\n",
       "    </tr>\n",
       "    <tr>\n",
       "      <th>4</th>\n",
       "      <td>CMA</td>\n",
       "      <td>0.788386</td>\n",
       "    </tr>\n",
       "  </tbody>\n",
       "</table>\n",
       "</div>"
      ],
      "text/plain": [
       "      因变量        R2\n",
       "0  MARKET  0.170119\n",
       "1     SMB  0.402592\n",
       "2     HML  0.501945\n",
       "3     RMW  0.793183\n",
       "4     CMA  0.788386"
      ]
     },
     "execution_count": 111,
     "metadata": {},
     "output_type": "execute_result"
    }
   ],
   "source": [
    "pc, tc, betasc, r2c =cross_independent_variable_regression(five_factors)\n",
    "r2c"
   ]
  },
  {
   "cell_type": "code",
   "execution_count": 112,
   "id": "9d92f882",
   "metadata": {},
   "outputs": [
    {
     "data": {
      "text/html": [
       "<div>\n",
       "<style scoped>\n",
       "    .dataframe tbody tr th:only-of-type {\n",
       "        vertical-align: middle;\n",
       "    }\n",
       "\n",
       "    .dataframe tbody tr th {\n",
       "        vertical-align: top;\n",
       "    }\n",
       "\n",
       "    .dataframe thead tr th {\n",
       "        text-align: left;\n",
       "    }\n",
       "</style>\n",
       "<table border=\"1\" class=\"dataframe\">\n",
       "  <thead>\n",
       "    <tr>\n",
       "      <th></th>\n",
       "      <th>因变量</th>\n",
       "      <th>R2</th>\n",
       "    </tr>\n",
       "  </thead>\n",
       "  <tbody>\n",
       "    <tr>\n",
       "      <th>0</th>\n",
       "      <td>MARKET</td>\n",
       "      <td>0.127253</td>\n",
       "    </tr>\n",
       "    <tr>\n",
       "      <th>1</th>\n",
       "      <td>SMB</td>\n",
       "      <td>0.715719</td>\n",
       "    </tr>\n",
       "    <tr>\n",
       "      <th>2</th>\n",
       "      <td>HML</td>\n",
       "      <td>0.493358</td>\n",
       "    </tr>\n",
       "    <tr>\n",
       "      <th>3</th>\n",
       "      <td>RMW</td>\n",
       "      <td>0.755564</td>\n",
       "    </tr>\n",
       "    <tr>\n",
       "      <th>4</th>\n",
       "      <td>CMA</td>\n",
       "      <td>0.598422</td>\n",
       "    </tr>\n",
       "  </tbody>\n",
       "</table>\n",
       "</div>"
      ],
      "text/plain": [
       "      因变量        R2\n",
       "0  MARKET  0.127253\n",
       "1     SMB  0.715719\n",
       "2     HML  0.493358\n",
       "3     RMW  0.755564\n",
       "4     CMA  0.598422"
      ]
     },
     "execution_count": 112,
     "metadata": {},
     "output_type": "execute_result"
    }
   ],
   "source": [
    "pcmar, tcmar, betascmar, r2cmar =cross_independent_variable_regression(csmar_f5)\n",
    "r2cmar"
   ]
  },
  {
   "cell_type": "markdown",
   "id": "4a1ff236",
   "metadata": {},
   "source": [
    "### 5.共线性调整"
   ]
  },
  {
   "cell_type": "code",
   "execution_count": 113,
   "id": "59c30170",
   "metadata": {},
   "outputs": [],
   "source": [
    "# 调整共线性 CMAO 计算\n",
    "def get_CMAO(df_f5,time_down='2000-01',time_up='2024-01',freq_type='M'):\n",
    "    \n",
    "    #互相回归\n",
    "    f25 = df_f5.copy()\n",
    "    f25['Intercept']=1\n",
    "    f25 = f25[f25.index>=pd.Period(time_down,freq=freq_type)]\n",
    "    f25 = f25[f25.index<=pd.Period(time_up,freq=freq_type)]\n",
    "    x=f25.loc[:,['MARKET','SMB','HML','RMW','Intercept']]\n",
    "    x.fillna(0,inplace=True)\n",
    "    y=f25.loc[:,'CMA'] \n",
    "    r2=[]\n",
    "    betas=[]\n",
    "    t=[]\n",
    "    p=[]\n",
    "    i=0\n",
    "    mod=sm.OLS(y,x).fit()\n",
    "    CMA_predict = mod.predict(x)\n",
    "    f25['CMA'] = f25['CMA']- CMA_predict\n",
    "    return f25[['MARKET','SMB','HML','RMW','CMA']]\n",
    "\n",
    "CMAO_f5 = get_CMAO(wind_f5)"
   ]
  },
  {
   "cell_type": "code",
   "execution_count": 118,
   "id": "0788f56b",
   "metadata": {},
   "outputs": [
    {
     "name": "stdout",
     "output_type": "stream",
     "text": [
      "GRS检验结果:2.0475,p值(pGRS):0.30%\n"
     ]
    }
   ],
   "source": [
    "#模型调用，计算五因子模型\n",
    "p_cmao,t_cmao,betas_cmao,r2_cmao = FF5_regression(df = monthly_stocks_2,\n",
    "                              df_f5 = CMAO_f5, df_rf = rf_rate_monthly,\n",
    "                              factor1='流通市值',factor2='总资产增长率',time_down='2000-01',time_up='2023-12')"
   ]
  },
  {
   "cell_type": "code",
   "execution_count": 119,
   "id": "ce765c15",
   "metadata": {},
   "outputs": [
    {
     "data": {
      "text/plain": [
       "group        6\n",
       "MARKET       6\n",
       "SMB          6\n",
       "HML          6\n",
       "RMW          6\n",
       "CMA          6\n",
       "Intercept    6\n",
       "dtype: int64"
      ]
     },
     "execution_count": 119,
     "metadata": {},
     "output_type": "execute_result"
    }
   ],
   "source": [
    "#解释效力\n",
    "#t.style.applymap(lambda x: 'color: red' if abs(x) >=2 else 'color:None',subset='Intercept')\n",
    "t_cmao[t_cmao['Intercept'].abs()>=2].count()"
   ]
  },
  {
   "cell_type": "code",
   "execution_count": 120,
   "id": "ec95b72b",
   "metadata": {},
   "outputs": [
    {
     "name": "stdout",
     "output_type": "stream",
     "text": [
      "0.0015262820576650018\n",
      "0.9379542951314949\n"
     ]
    }
   ],
   "source": [
    "print(abs(betas_cmao['Intercept']).mean())\n",
    "print(abs(r2_cmao['r2']).mean())"
   ]
  },
  {
   "cell_type": "markdown",
   "id": "20eda78d",
   "metadata": {},
   "source": [
    "# 多因子检验"
   ]
  },
  {
   "cell_type": "code",
   "execution_count": 117,
   "id": "0a898e0e",
   "metadata": {},
   "outputs": [
    {
     "ename": "SyntaxError",
     "evalue": "non-default argument follows default argument (797555415.py, line 2)",
     "output_type": "error",
     "traceback": [
      "\u001b[0;36m  Cell \u001b[0;32mIn[117], line 2\u001b[0;36m\u001b[0m\n\u001b[0;31m    groups=5, date, ret, ori_mkt, ret_type='mkt', save=True):\u001b[0m\n\u001b[0m              ^\u001b[0m\n\u001b[0;31mSyntaxError\u001b[0m\u001b[0;31m:\u001b[0m non-default argument follows default argument\n"
     ]
    }
   ],
   "source": [
    "def independent_double_sort_factor(df, sort_factor, save_fp, \n",
    "                                   groups=5, date, ret, ori_mkt, ret_type='mkt', save=True):\n",
    "    group_label = sort_factor + '_G'\n",
    "    size_label = 'size_G'\n",
    "\n",
    "    df[group_label] = df.groupby(date, group_keys=False)[sort_factor].apply(\n",
    "        lambda x: np.ceil(x.rank() / (len(x) / groups))\n",
    "    )\n",
    "    df[group_label] = df[group_label].apply(\n",
    "        lambda x: group_label + str(int(x))\n",
    "    )\n",
    "    df[size_label] = df.groupby(date, group_keys=False)['mkt'].apply(\n",
    "        lambda x: np.ceil(x.rank() / (len(x) / groups))\n",
    "    )\n",
    "    df[size_label] = df[size_label].apply(\n",
    "        lambda x: size_label + str(int(x))\n",
    "    )\n",
    "    df['double_label'] = df[[size_label, group_label]].apply(\n",
    "        lambda x: x[size_label] + '/' + x[group_label], axis=1\n",
    "    )\n",
    "    if ret_type == 'mkt':\n",
    "\n",
    "        factor_ret = df.groupby([date, 'double_label']).apply(\n",
    "            lambda x: (x[ret] * x[ori_mkt] / x[ori_mkt].sum()).sum()\n",
    "        ).unstack('double_label')\n",
    "    elif ret_type == 'equal':\n",
    "\n",
    "        factor_ret = df.groupby([date, 'double_label']).apply(\n",
    "            lambda x: x[ret].mean()\n",
    "        ).unstack('double_label')\n",
    "\n",
    "    factor_ret.fillna(0, inplace=True)\n",
    "    factor_ret.reset_index(inplace=True)\n",
    "    factor_ret[date] = factor_ret[date].shift(-1)\n",
    "    factor_ret.dropna(inplace=True)\n",
    "    factor_ret.set_index([date], inplace=True)\n",
    "    for i in range(groups):\n",
    "        i = i + 1\n",
    "        factor_ret[size_label + str(i) + '/HML'] = factor_ret[size_label + str(i) + '/' + group_label + str(groups)] - \\\n",
    "                                                   factor_ret[\n",
    "                                                       size_label + str(i) + '/' + group_label + str(1)]\n",
    "        factor_ret['Average/' + group_label + str(i)] = np.sum(factor_ret[[size_label + '1/' + group_label + str(i),\n",
    "                                                                           size_label + '2/' + group_label + str(i),\n",
    "                                                                           size_label + '3/' + group_label + str(i),\n",
    "                                                                           size_label + '4/' + group_label + str(i),\n",
    "                                                                           size_label + '5/' + group_label + str(i)\n",
    "                                                                           ]], axis=1) / 5\n",
    "\n",
    "    factor_ret['Average/HML'] = np.sum(factor_ret[[size_label + '1/HML', size_label + '2/HML', size_label + '3/HML',\n",
    "                                                   size_label + '4/HML', size_label + '5/HML']], axis=1) / 5\n",
    "\n",
    "    mean_temp = pd.DataFrame(factor_ret.mean()).reset_index()\n",
    "    double_ts_mean = mean_temp['double_label'].str.split('/', expand=True)\n",
    "    double_ts_mean[ret] = mean_temp[0]\n",
    "    double_ts_mean.columns = ['Size', sort_factor, ret]\n",
    "    BM_mean = double_ts_mean.pivot(index='Size', columns=sort_factor, values=ret)\n",
    "\n",
    "    temp_test = []\n",
    "    for column in factor_ret.columns:\n",
    "        model = sm.OLS(factor_ret[column], np.ones(len(factor_ret[column])))\n",
    "        result = model.fit(missing='drop', cov_type='HAC', cov_kwds={'maxlags': 5})\n",
    "        temp_test.append([column, list(result.tvalues)[0], list(result.pvalues)[0]])\n",
    "    temp_test = pd.DataFrame(temp_test, columns=['Double1', 'T_value', 'P_value'])\n",
    "\n",
    "    double_mean_test = temp_test['Double1'].str.split('/', expand=True)\n",
    "    double_mean_test['T_value'] = temp_test['T_value']\n",
    "    double_mean_test.columns = ['Size', sort_factor, 'T_value']\n",
    "    BM_test = double_mean_test.pivot(index='Size', columns=sort_factor, values='T_value')\n",
    "    if not os.path.exists(f\"结果/{save_fp}\"):\n",
    "        os.makedirs(f\"结果/{save_fp}\")\n",
    "    if save:\n",
    "        BM_mean.to_csv(f\"结果/{save_fp}/{sort_factor}_{ret_type}_mean.csv\")\n",
    "        BM_test.to_csv(f\"结果/{save_fp}/{sort_factor}_{ret_type}_ttest.csv\")\n",
    "    return factor_ret\n",
    "\n",
    "\n",
    "def plot_double_value(factor_ret, factor, ret_type, date, save=True):\n",
    "    factor_ret.reset_index(inplace=True)\n",
    "    factor_ret[date] = pd.to_datetime(factor_ret[date].astype(str).apply(lambda x: x+'01'))\n",
    "    with plt.style.context(['science']):\n",
    "        plt.figure(figsize=(20, 9))\n",
    "        plt.plot(\n",
    "            factor_ret[date], (factor_ret[f'Average/{factor}_G5']+1).cumprod(), linewidth=1.5,\n",
    "            color='black', alpha=0.7, ls='--', label=f\"Large {factor.replace('_', '')}\")  # edgecolor设置边框颜色(k是黑色)\n",
    "        plt.plot(\n",
    "            factor_ret[date], (factor_ret[f'Average/{factor}_G1'] + 1).cumprod(), linewidth=1.5,\n",
    "            color='black', alpha=0.7, ls=':', label=f\"Small {factor.replace('_', '')}\")\n",
    "        plt.plot(\n",
    "            factor_ret[date], (factor_ret['Average/HML'] + 1).cumprod(), linewidth=1.5,\n",
    "            color='black', alpha=0.7, ls='-', label='HML')\n",
    "        plt.xticks(fontsize=13, rotation=30)\n",
    "        plt.xlabel('$Date$', fontsize=13)\n",
    "        plt.ylabel('$Cumulative\\ Return$', fontsize=13, rotation=90)\n",
    "        plt.grid(axis='y')\n",
    "        plt.legend(loc='upper left')\n",
    "        if save:\n",
    "            plt.savefig(f'结果/{factor}累计收益率{ret_type}.png', dpi=300)\n",
    "        plt.show()\n",
    "\n",
    "\n",
    "if __name__ == \"__main__\":\n",
    "    mid_path = '数据处理中间数据\\\\'\n",
    "    fig_path = '结果图片\\\\'\n",
    "    monthly_data = pd.read_csv(mid_path + 'monthly_stocks.csv')\n",
    "    # 生成因子原始值\n",
    "\n",
    "    factors = ['BM2', 'Int_BM', 'EP', 'Revenue2M', 'RE2M', 'CC2M']\n",
    "    types = ['equal', 'mkt']\n",
    "\n",
    "    # 双重排序价值因子\n",
    "    for c in factors:\n",
    "        for ret_type in types:\n",
    "            double_sort_test(\n",
    "                monthly_data, sort_factor=c, save_fp='价值因子双重排序检验',\n",
    "                ret_type=ret_type\n",
    "            )\n",
    "\n",
    "    double_path = \"结果/价值因子双重排序检验/\"\n",
    "    double_factor_summary(factors, types, double_path)\n",
    "\n",
    "    for c in ['BM2', 'Int_BM', 'EP']:\n",
    "        for ret_type in ['mkt', 'equal']:\n",
    "            return_series = double_sort_test(\n",
    "                monthly_data, sort_factor=c, save_fp='价值因子双重排序检验',\n",
    "                ret_type=ret_type)\n",
    "            plot_double_value(return_series, c, ret_type)"
   ]
  },
  {
   "cell_type": "code",
   "execution_count": null,
   "id": "5ba0bb78",
   "metadata": {},
   "outputs": [],
   "source": [
    "def plot_all_series(hml, factors):\n",
    "    markers = ['*', '>', '_', 'o', ',', '^', 'p']\n",
    "    lss = ['-', '-.', '-', '--', '-.', ':', '-']\n",
    "    with plt.style.context(['science']):\n",
    "        plt.rcParams.update({'font.size': 18})\n",
    "        plt.figure(figsize=(24, 12))\n",
    "        for i, factor in enumerate(factors):\n",
    "            plt.plot(\n",
    "                hml['ym'], hml[f'hml_{factor}'], linewidth=1.5,\n",
    "                alpha=0.7, marker=markers[i],\n",
    "                ls=lss[i], label=f\"${factor.replace('_', '')}$\")  # edgecolor设置边框颜色(k是黑色)\n",
    "\n",
    "        plt.xticks(fontsize=14)\n",
    "        plt.xlabel('$Date$', fontsize=24)\n",
    "        plt.ylabel('$Cumulative\\ Return$', fontsize=24, rotation=90)\n",
    "        plt.grid(axis='y')\n",
    "        plt.legend(loc='upper left')\n",
    "        plt.savefig('结果\\\\因子累计收益图.png', dpi=300)\n",
    "        plt.show()\n",
    "\n",
    "\n",
    "if __name__ == \"__main__\":\n",
    "    mid_path = '数据处理中间数据\\\\'\n",
    "    fig_path = '结果图片\\\\'\n",
    "    monthly_data = pd.read_csv(mid_path + 'monthly_stocks.csv')\n",
    "    # 生成因子原始值\n",
    "    monthly_data = gen_value_data(monthly_data)\n",
    "\n",
    "    factors = ['BM2', 'Int_BM', 'EP', 'Revenue2M', 'RE2M', 'CC2M']\n",
    "    types = ['mkt']\n",
    "\n",
    "    frame = []\n",
    "    for c in factors:\n",
    "        for ret_type in ['mkt']:\n",
    "            ret_frame = double_sort_test(\n",
    "                monthly_data, sort_factor=c, save_fp='改进后双重排序检验',\n",
    "                ret_type=ret_type, save=False)\n",
    "            ret_frame.rename(columns={'Average/HML': f'hml_{c}'}, inplace=True)\n",
    "            frame.append(ret_frame)\n",
    "\n",
    "    hml_ret = pd.concat(frame, axis=1)\n",
    "    hml = hml_ret + 1\n",
    "    hml = hml.cumprod()\n",
    "    hml = hml.reset_index()\n",
    "    hml['ym'] = pd.to_datetime(hml['ym'].astype(int).astype(str).apply(lambda x: x + '01'))\n",
    "    hml.set_index('ym', inplace=True)\n",
    "    hml = hml.reset_index()\n",
    "\n",
    "    plot_all_series(hml, factors)"
   ]
  },
  {
   "cell_type": "code",
   "execution_count": null,
   "id": "18b360e1",
   "metadata": {},
   "outputs": [],
   "source": [
    "import statsmodels.formula.api as smf\n",
    "#多重共线性的vif检验\n",
    "def VIF_calculate(df_all,y_name):\n",
    "    x_cols=df_all.columns.to_list()\n",
    "    x_cols.remove(y_name)\n",
    "    \n",
    "    def vif(df_exog,exog_name):\n",
    "        exog_use = list(df_exog.columns)\n",
    "        exog_use.remove(exog_name)\n",
    "        model=smf.ols(f\"{exog_name}~{'+'.join(list(exog_use))}\",data=df_exog).fit()\n",
    "        return 1./(1.-model.rsquared)\n",
    "\n",
    "    df_vif=pd.DataFrame()\n",
    "    for x in x_cols:\n",
    "        df_vif.loc['VIF',x]=vif(df_all[x_cols],x)\n",
    "        \n",
    "    df_vif.loc['tolerance']=1/df_vif.loc['VIF']\n",
    "    df_vif=df_vif.T.sort_values('VIF',ascending=False)\n",
    "    df_vif.loc['mean_vif']=df_vif.mean()\n",
    "    return df_vif\n",
    "\n",
    "def get_portfolio(df,df_f5,df_rf,nfactors=['MARKET','SMB','HML','Intercept','rf_rate'],groups=5,stkcd='WINDCODE',date='period',factor1='流通市值',factor2='BP',\n",
    "                   ret='pct_change',mv='流通市值',time_up='2024-01',time_down='2000-01',freq_type='M'):\n",
    "    ds_stocks = independent_double_sort(df,groups,stkcd,date,factor1,factor2,time_up,time_down,freq_type)\n",
    "    ds_stocks['group']=ds_stocks.apply(lambda x:factor2+str(int(x['g_'+factor2]))+\n",
    "                                       '-'+factor1+str(int(x['g_'+factor1])),axis=1)\n",
    "    f25=ds_stocks.groupby([date,'group']).apply(lambda x: (x[ret]*x[mv]).sum()/x[mv].sum())\n",
    "    f25=f25.unstack()\n",
    "    f25=pd.merge(f25,df_f5,how='inner',left_index=True,right_index=True)\n",
    "    f25=pd.merge(f25,df_rf,how='inner',left_index=True,right_index=True)\n",
    "    f25['Intercept']=1\n",
    "    x=f25.loc[:,nfactors]\n",
    "    x.fillna(0,inplace=True)\n",
    "    return x\n",
    "\n",
    "portfolio = nfactors_regression(df = monthly_stocks_2,df_f5 = five_factors, df_rf = rf_rate_monthly,\n",
    "                                nfactors=['MARKET','HML','RMW','CMA','Intercept','rf_rate'],\n",
    "                                factor1='流通市值',factor2='roe')"
   ]
  }
 ],
 "metadata": {
  "kernelspec": {
   "display_name": "investment",
   "language": "python",
   "name": "python3"
  },
  "language_info": {
   "codemirror_mode": {
    "name": "ipython",
    "version": 3
   },
   "file_extension": ".py",
   "mimetype": "text/x-python",
   "name": "python",
   "nbconvert_exporter": "python",
   "pygments_lexer": "ipython3",
   "version": "3.12.3"
  }
 },
 "nbformat": 4,
 "nbformat_minor": 5
}
