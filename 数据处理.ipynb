{
 "cells": [
  {
   "cell_type": "code",
   "execution_count": 1,
   "id": "1c03e116",
   "metadata": {},
   "outputs": [],
   "source": [
    "import numpy as np\n",
    "import pandas as pd\n",
    "import os \n",
    "path ='/Users/hmt/Documents/ PHBS/courses/investment/project/data/wind底层库数据'"
   ]
  },
  {
   "cell_type": "code",
   "execution_count": 2,
   "id": "d95ce180",
   "metadata": {},
   "outputs": [],
   "source": [
    "#财务数据数据读取\n",
    "financial_data = pd.read_csv(f'{path}/A股财务信息.csv',dtype={'ANN_DT':'str','REPORT_PERIOD':str})\n",
    "financial_data =financial_data.drop(['OBJECT_ID','S_INFO_WINDCODE','S_INFO_COMPCODE','CRNCY_CODE'],axis=1)\n",
    "\n",
    "#财务数据预处理\n",
    "financial_data_2 = financial_data.rename(columns={'WIND_CODE':'WINDCODE','ANN_DT':'公告日期',\n",
    "                                                  'REPORT_PERIOD':'报告日期','S_FA_ROE_DEDUCTED':'净资产收益率(扣除非经常损益)',\n",
    "                                                  'S_FA_YOYASSETS':'总资产增长率', 'S_FA_ROE_YEARLY':'roeyoy', \n",
    "                                                  'S_FA_ROE':'roe', 'S_FA_ROE_AVG':'roeavg',\n",
    "                                                 'S_FA_BPS':'每股净资产','S_FA_DEDUCTEDPROFIT':'扣非净利润'})#批量重命名列名，使其更直观\n",
    "\n",
    "financial_data_2 = financial_data_2.sort_values(by=['WINDCODE','报告日期'])\n",
    "financial_data_2['公告日期'] = pd.to_datetime(financial_data_2['公告日期'], format='%Y%m%d')\n",
    "financial_data_2['报告日期'] = pd.to_datetime(financial_data_2['报告日期'], format='%Y%m%d')\n",
    "financial_data_2\n",
    "financial_data_2.rename(columns={'公告日期':'date'},inplace=True)\n",
    "financial_data_2['公告日期'] = financial_data_2['date']\n",
    "#可以发现A股2002年之前的财务数据有缺失情况"
   ]
  },
  {
   "cell_type": "code",
   "execution_count": 4,
   "id": "deceb850",
   "metadata": {},
   "outputs": [],
   "source": [
    "#保留年报财务数据\n",
    "financial_data_2 = financial_data_2[financial_data_2['报告日期'].dt.month==12]"
   ]
  },
  {
   "cell_type": "code",
   "execution_count": 5,
   "id": "6f8305e6",
   "metadata": {},
   "outputs": [],
   "source": [
    "#股价行情数据读取\n",
    "price_data = pd.read_csv(f'{path}/price_data.csv',encoding='gbk',dtype={'UP_DOWN_LIMIT_STATUS':str,})#日估值信息\n",
    "windAshare = pd.read_csv(f'{path}/windAshare.csv',encoding='gbk')#WIND全A指数\n",
    "all_ashare = pd.read_csv(f'{path}/all_stock_wind.csv',encoding='gbk')#日行情量价信息\n",
    "#股价行情数据预处理\n",
    "price_data = price_data.drop(['OBJECT_ID','CRNCY_CODE'],axis=1)\n",
    "all_ashare = all_ashare.drop(['OBJECT_ID','S_DQ_CHANGE','S_DQ_PCTCHANGE','S_DQ_LIMIT', 'S_DQ_STOPPING'],axis=1)\n",
    "windAshare = windAshare.drop(['OBJECT_ID','CRNCY_CODE','OPDATE'],axis=1)\n",
    "price_data['TRADE_DT'] = pd.to_datetime(price_data['TRADE_DT'],format='%Y%m%d')\n",
    "all_ashare['TRADE_DT'] = pd.to_datetime(all_ashare['TRADE_DT'],format='%Y%m%d')\n",
    "price_data.rename(columns={'TRADE_DT':'date'},inplace=True)\n",
    "all_ashare.rename(columns={'TRADE_DT':'date'},inplace=True)\n",
    "price_data.rename(columns={'S_INFO_WINDCODE':'WINDCODE'},inplace=True)\n",
    "all_ashare.rename(columns={'S_INFO_WINDCODE':'WINDCODE'},inplace=True)"
   ]
  },
  {
   "cell_type": "code",
   "execution_count": 6,
   "id": "d6195f72",
   "metadata": {},
   "outputs": [],
   "source": [
    "#合并每日估值数据与财务数据，注意是与报告的公告日连接\n",
    "all_ashare_dataset = pd.merge(price_data,financial_data_2,on=['WINDCODE','date'],how='left')\n",
    "all_ashare_dataset = all_ashare_dataset.sort_values(by=['WINDCODE','date'])"
   ]
  },
  {
   "cell_type": "code",
   "execution_count": 9,
   "id": "856643eb",
   "metadata": {},
   "outputs": [],
   "source": [
    "#把每日行情的财务数据都向前填充最近一个公告日报告的财务数据\n",
    "def ffill_series(group):\n",
    "    return group.fillna(method='ffill')\n",
    "columns_to_fill = ['报告日期', '净资产收益率(扣除非经常损益)', '总资产增长率', 'roeyoy','roe',\n",
    "                   'roeavg','每股净资产', '扣非净利润','公告日期']\n",
    "grouped = all_ashare_dataset.groupby('WINDCODE')\n",
    "filled_data = grouped[columns_to_fill].apply(ffill_series).reset_index(level=0, drop=True)\n",
    "for column in columns_to_fill:\n",
    "    all_ashare_dataset[column] = filled_data[column]"
   ]
  },
  {
   "cell_type": "code",
   "execution_count": 10,
   "id": "9422fda6",
   "metadata": {},
   "outputs": [],
   "source": [
    "#导入ST股票数据\n",
    "st_stock = pd.read_csv(f'{path}/ST_data.csv',encoding='gbk',dtype={'ENTRY_DT':str,'REMOVE_DT':str})\n",
    "st_stock.rename(columns={'S_INFO_WINDCODE':'WINDCODE','S_TYPE_ST':'ST状态'},inplace=True)\n",
    "st_stock = st_stock.drop(['OBJECT_ID','REASON'],axis=1)\n",
    "st_stock['REMOVE_DT'] = st_stock['REMOVE_DT'].fillna('20240521')\n",
    "st_stock['ENTRY_DT'] = pd.to_datetime(st_stock['ENTRY_DT'],format='%Y%m%d')\n",
    "st_stock['REMOVE_DT'] = pd.to_datetime(st_stock['REMOVE_DT'],format='%Y%m%d')"
   ]
  },
  {
   "cell_type": "code",
   "execution_count": 11,
   "id": "66711473",
   "metadata": {},
   "outputs": [],
   "source": [
    "#导入行业分类信息数据\n",
    "industry = pd.read_csv(f'{path}/行业分类.csv',encoding='gbk',dtype={'REMOVE_DT':str,'ENTRY_DT':str,'SW_IND_CODE':str})\n",
    "industry.rename(columns={'S_INFO_WINDCODE':'WINDCODE', 'SW_IND_CODE':'申万行业代码','CUR_SIGN':'最新标志'},inplace=True)\n",
    "industry['REMOVE_DT'] = industry['REMOVE_DT'].fillna('20240521')\n",
    "industry['ENTRY_DT'] = pd.to_datetime(industry['ENTRY_DT'],format='%Y%m%d')\n",
    "industry['REMOVE_DT'] = pd.to_datetime(industry['REMOVE_DT'],format='%Y%m%d')"
   ]
  },
  {
   "cell_type": "code",
   "execution_count": 12,
   "id": "74d44eef",
   "metadata": {},
   "outputs": [],
   "source": [
    "#更新标签函数\n",
    "def update_info_label(df_daily, df_info,label_columns,ENTRY_DT='ENTRY_DT',REMOVE_DT='REMOVE_DT',date='date',WINDCODE='WINDCODE'):\n",
    "    merge_data_test = pd.merge(df_daily,df_info,on=WINDCODE,how='left')\n",
    "    condition = (merge_data_test[date]>=merge_data_test[ENTRY_DT])&(merge_data_test[date]<=merge_data_test[REMOVE_DT])\n",
    "    merge_data_test = merge_data_test[condition]\n",
    "    merge_data_test = merge_data_test[[WINDCODE,date]+label_columns]\n",
    "    merge_data_test = merge_data_test.drop_duplicates([WINDCODE,date],keep='first')\n",
    "    df_daily = pd.merge(df_daily,merge_data_test,on=[WINDCODE,date],how='left')\n",
    "    df_daily.sort_values(by=[WINDCODE,date])\n",
    "    return df_daily"
   ]
  },
  {
   "cell_type": "code",
   "execution_count": 13,
   "id": "1e581d09",
   "metadata": {},
   "outputs": [],
   "source": [
    "#更新ST股票标签\n",
    "all_ashare_dataset = update_info_label(df_daily=all_ashare_dataset,df_info=st_stock,label_columns=['ST状态'])\n",
    "#更新行业信息标签\n",
    "all_ashare_dataset = update_info_label(df_daily=all_ashare_dataset,df_info=industry,label_columns=['申万行业代码'])\n",
    "#删除ST股票\n",
    "all_ashare_dataset = all_ashare_dataset[all_ashare_dataset['ST状态'].isna()]"
   ]
  },
  {
   "cell_type": "code",
   "execution_count": 14,
   "id": "25e992c0",
   "metadata": {},
   "outputs": [],
   "source": [
    "#导入A股公司信息数据，并合并\n",
    "ashare_basic_info = pd.read_csv(f'{path}/A股基本信息.csv',encoding='gbk',dtype=str)\n",
    "ashare_basic_info.rename(columns={'S_INFO_WINDCODE':'WINDCODE', 'S_INFO_CODE':'stkcd', 'S_INFO_NAME':'公司名称', \n",
    "                                        'S_INFO_EXCHMARKET':'交易所','S_INFO_LISTBOARD':'上市板块代码', 'S_INFO_LISTDATE':'上市时间',\n",
    "                                        'S_INFO_DELISTDATE':'退市时间','S_INFO_LISTBOARDNAME':'上市板块', \n",
    "                                        'IS_SHSC':'是否沪股通'},inplace=True)\n",
    "all_ashare_dataset = pd.merge(all_ashare_dataset,ashare_basic_info,on='WINDCODE',how='left')\n",
    "\n",
    "#剔除北交所股票\n",
    "all_ashare_dataset = all_ashare_dataset[all_ashare_dataset['交易所'] != 'BSE']\n",
    "#剔除上市时间，申万行业代码空值的股票\n",
    "all_ashare_dataset = all_ashare_dataset[all_ashare_dataset['上市时间'].notna()]\n",
    "all_ashare_dataset = all_ashare_dataset[all_ashare_dataset['申万行业代码'].notna()]"
   ]
  },
  {
   "cell_type": "code",
   "execution_count": 15,
   "id": "0b09f578",
   "metadata": {},
   "outputs": [],
   "source": [
    "#导入A股交易日数据\n",
    "tr_date = pd.read_csv(f'{path}/trading_date.csv',encoding='gbk')\n",
    "tr_date['TRADE_DAYS'] = pd.to_datetime(tr_date['TRADE_DAYS'],format='%Y%m%d')\n",
    "tr_date.rename(columns={'TRADE_DAYS':'date','S_INFO_EXCHMARKET':'交易所'},inplace=True)"
   ]
  },
  {
   "cell_type": "code",
   "execution_count": 16,
   "id": "4bfa82f1",
   "metadata": {},
   "outputs": [],
   "source": [
    "#清洗合并数据与日行情数据的非交易日数据\n",
    "all_ashare_dataset = pd.merge(all_ashare_dataset,tr_date,on=['date','交易所'],how='inner')"
   ]
  },
  {
   "cell_type": "code",
   "execution_count": 17,
   "id": "3ad7e25e",
   "metadata": {},
   "outputs": [],
   "source": [
    "#合并总数据集，将合并数据与日行情量价数据合并\n",
    "merge_stock1 = pd.merge(all_ashare_dataset,all_ashare,on=['WINDCODE','date'],how='left')#合并\n",
    "merge_stock1.sort_values(by=['WINDCODE','date'],inplace=True)\n",
    "merge_stock1.rename(columns={'S_DQ_PRECLOSE':'preclose', 'S_DQ_OPEN':'open',\n",
    "       'S_DQ_HIGH':'high', 'S_DQ_LOW':'low', 'S_DQ_CLOSE':'close',\n",
    "       'S_DQ_VOLUME':'volume', 'S_DQ_AMOUNT':'amount', 'S_DQ_ADJPRECLOSE':'复权preclose', 'S_DQ_ADJOPEN':'复权open',\n",
    "       'S_DQ_ADJHIGH':'复权high', 'S_DQ_ADJLOW':'复权low', 'S_DQ_ADJCLOSE':'复权close', 'S_DQ_ADJFACTOR':'复权因子',\n",
    "       'S_DQ_AVGPRICE':'avgprice', 'S_DQ_TRADESTATUS':'交易状态', 'S_DQ_TRADESTATUSCODE':'交易状态码','S_VAL_MV':'总市值',\n",
    "        'S_DQ_MV':'流通市值', 'S_VAL_PB_NEW':'PB',\n",
    "       'S_DQ_TURN':'换手率', 'S_DQ_FREETURNOVER':'流通换手率', 'S_DQ_CLOSE_TODAY':'今日收盘价',\n",
    "       'UP_DOWN_LIMIT_STATUS':'涨跌停状态'},inplace=True)#重命名列名"
   ]
  },
  {
   "cell_type": "code",
   "execution_count": null,
   "id": "6149b29e",
   "metadata": {},
   "outputs": [],
   "source": [
    "#股价行情时间裁剪，选取 20000101 到 20240101\n",
    "cutoff_date_up = pd.to_datetime('20240101')\n",
    "cutoff_date_down = pd.to_datetime('20000101')\n",
    "# 使用布尔索引来选择date小于或等于20240101的行\n",
    "merge_stock1 = merge_stock1[merge_stock1['date'] <= cutoff_date_up]\n",
    "merge_stock1 = merge_stock1[merge_stock1['date'] >= cutoff_date_down]"
   ]
  },
  {
   "cell_type": "code",
   "execution_count": 18,
   "id": "7520b3b9",
   "metadata": {},
   "outputs": [],
   "source": [
    "#导出数据\n",
    "merge_stock1.to_csv(f'{path}/all_ashares_年报填充_copy.csv', index=False)"
   ]
  }
 ],
 "metadata": {
  "kernelspec": {
   "display_name": "investment",
   "language": "python",
   "name": "investment"
  },
  "language_info": {
   "codemirror_mode": {
    "name": "ipython",
    "version": 3
   },
   "file_extension": ".py",
   "mimetype": "text/x-python",
   "name": "python",
   "nbconvert_exporter": "python",
   "pygments_lexer": "ipython3",
   "version": "3.10.9"
  }
 },
 "nbformat": 4,
 "nbformat_minor": 5
}
